{
 "cells": [
  {
   "cell_type": "markdown",
   "id": "c1143607",
   "metadata": {},
   "source": [
    "# 1. Create a virtual environment\n",
    "python -m venv model_0-env\n",
    "\n",
    "# 2. Activate the virtual environment\n",
    "source model_0-env/Scripts/activate\n",
    "\n",
    "# 3. Upgrade pip\n",
    "pip install --upgrade pip\n",
    "\n",
    "# 4. Install ipykernel + jupyter\n",
    "pip install ipykernel jupyter\n",
    "\n",
    "# 5. Register the virtual environment as a Jupyter kernel\n",
    "python -m ipykernel install --user --name model_0_env --display-name \"Python (model_0-env)\"\n"
   ]
  },
  {
   "cell_type": "markdown",
   "id": "5f7d68f4",
   "metadata": {},
   "source": [
    "pip install torch torchvision torchaudio --index-url https://download.pytorch.org/whl/cu128\n",
    "\n",
    "pip install torchtext --no-cache-dir -i https://pypi.org/simple\n",
    "\n",
    "pip install matplotlib\n",
    "pip install tqdm\n",
    "pip install mlxtend torchmetrics\n",
    "\n",
    "pip install spacy\n",
    "python -m spacy download en_core_web_lg\n",
    "pip install transformers tokenizers"
   ]
  },
  {
   "cell_type": "code",
   "execution_count": null,
   "id": "27edbca4",
   "metadata": {},
   "outputs": [],
   "source": [
    "import torch\n",
    "from torch import nn\n",
    "\n",
    "import torchtext\n",
    "from torchtext import datasets\n",
    "from torchtext import data\n",
    "from torchtext.datasets import IMDB\n",
    "# import torchvision\n",
    "# from torchvision import datasets\n",
    "# from torchvision import transforms\n",
    "# from torchvision.transforms import ToTensor\n",
    "\n",
    "import matplotlib.pyplot as plt\n",
    "import numpy as np\n",
    "import spacy\n",
    "import random"
   ]
  },
  {
   "cell_type": "code",
   "execution_count": 2,
   "id": "cd404cef",
   "metadata": {},
   "outputs": [
    {
     "name": "stdout",
     "output_type": "stream",
     "text": [
      "Torch version: 2.8.0+cu128\n",
      "TorchText version: 0.6.0\n"
     ]
    }
   ],
   "source": [
    "print(\"Torch version:\", torch.__version__)\n",
    "print(\"TorchText version:\", torchtext.__version__)"
   ]
  },
  {
   "cell_type": "code",
   "execution_count": 3,
   "id": "07bdc66c",
   "metadata": {},
   "outputs": [
    {
     "name": "stdout",
     "output_type": "stream",
     "text": [
      "True\n",
      "1\n",
      "NVIDIA GeForce RTX 5070\n"
     ]
    }
   ],
   "source": [
    "print(torch.cuda.is_available())\n",
    "print(torch.cuda.device_count())\n",
    "print(torch.cuda.get_device_name(0))"
   ]
  },
  {
   "cell_type": "markdown",
   "id": "88978f75",
   "metadata": {},
   "source": [
    "# Getting data ready"
   ]
  },
  {
   "cell_type": "markdown",
   "id": "6285aede",
   "metadata": {},
   "source": [
    "## Load dataset"
   ]
  },
  {
   "cell_type": "markdown",
   "id": "8da401d3",
   "metadata": {},
   "source": [
    "Dataset Being used is from https://ai.stanford.edu/~amaas/data/sentiment/"
   ]
  },
  {
   "cell_type": "code",
   "execution_count": 4,
   "id": "2e215456",
   "metadata": {},
   "outputs": [],
   "source": [
    "nlp = spacy.load(\"en_core_web_lg\")\n",
    "\n",
    "#need to create this function to tokenize since i am using an old torchtext version 0.6.0\n",
    "def tokenize_fn(text):\n",
    "    return [token.text for token in nlp.tokenizer(text)]"
   ]
  },
  {
   "cell_type": "code",
   "execution_count": 5,
   "id": "050be5f2",
   "metadata": {},
   "outputs": [],
   "source": [
    "train_text_field = data.Field(sequential=True, lower=True, tokenize=tokenize_fn, include_lengths=True)\n",
    "train_label_field = data.Field(sequential=False, use_vocab=True, unk_token=None)"
   ]
  },
  {
   "cell_type": "code",
   "execution_count": null,
   "id": "d150aa1e",
   "metadata": {},
   "outputs": [],
   "source": [
    "# Load IMDB dataset\n",
    "train_dataset, test_dataset = datasets.IMDB.splits(\n",
    "    text_field=train_text_field,\n",
    "    label_field=train_label_field\n",
    ")\n",
    "\n",
    "\n",
    "train_dataset, validation_dataset = train_dataset.split(\n",
    "                                                        split_ratio=0.8,\n",
    "                                                        random_state=random.seed(43)\n",
    ")"
   ]
  },
  {
   "cell_type": "markdown",
   "id": "53c944ec",
   "metadata": {},
   "source": [
    "### Understanding data"
   ]
  },
  {
   "cell_type": "code",
   "execution_count": 7,
   "id": "ab1169c8",
   "metadata": {},
   "outputs": [
    {
     "data": {
      "text/plain": [
       "(20000, 5000, 25000)"
      ]
     },
     "execution_count": 7,
     "metadata": {},
     "output_type": "execute_result"
    }
   ],
   "source": [
    "len(train_dataset), len(validation_dataset), len(test_dataset)"
   ]
  },
  {
   "cell_type": "code",
   "execution_count": 8,
   "id": "966963d6",
   "metadata": {},
   "outputs": [],
   "source": [
    "first_example = train_dataset[0]"
   ]
  },
  {
   "cell_type": "code",
   "execution_count": 9,
   "id": "094580bb",
   "metadata": {},
   "outputs": [
    {
     "name": "stdout",
     "output_type": "stream",
     "text": [
      "Text tokens: ['midnight', 'cowboy', 'made', 'a', 'big', 'fuss', 'when', 'it', 'was', 'released', 'in', '1969', ',', 'drawing', 'an', 'x', 'rating', '.', 'by', 'today', \"'s\", 'standards', ',', 'it', 'would', 'be', 'hard', 'pressed', 'to', 'pull', 'an', 'r', 'rating', '.', 'jon', 'voight', ',', 'who', 'has', 'been', 'better', ',', 'is', 'competent', 'in', 'his', 'role', 'as', 'joe', 'buck', ',', 'an', 'out', 'of', 'town', 'hick', 'wanting', 'to', 'make', 'it', 'big', 'with', 'the', 'ladies', 'in', 'new', 'york', 'city', '.', 'he', 'meets', 'a', 'seedy', 'street', 'hustler', 'named', 'ratso', 'rizzo', ',', 'who', 'tries', 'to', 'befriend', 'buck', 'for', 'his', 'own', 'purposes', '.', 'the', 'two', 'eventually', 'forge', 'a', 'bond', 'that', 'is', 'both', 'touching', 'and', 'pathetic', '.', 'as', 'ratso', ',', 'dustin', 'hoffman', 'simply', 'shines', '.', 'hoffman', 'has', 'often', 'been', 'brilliant', ',', 'but', 'never', 'more', 'so', 'than', 'in', 'this', 'portrayal', '.', 'he', 'is', 'so', 'into', 'character', 'that', 'all', 'else', 'around', 'him', 'pales', 'in', 'comparison', '.', 'losing', 'the', 'academy', 'award', 'to', 'john', 'wayne', 'is', 'one', 'of', 'the', 'most', 'ridiculous', 'decisions', 'ever', 'made', 'by', 'the', 'academy', 'of', 'motion', 'picture', 'arts', 'and', 'sciences', '.', 'director', 'schlessinger', 'has', 'a', 'deft', 'hand', 'with', 'his', 'production', ',', 'but', 'this', 'film', 'has', 'a', 'grungy', 'underbelly', 'that', 'leaves', 'a', 'bad', 'taste', 'in', 'the', 'mouth', 'of', 'the', 'viewer', '.', 'worth', 'seeing', 'for', 'hoffman', \"'s\", 'performance', 'alone', '.']\n",
      "Full Review: midnight cowboy made a big fuss when it was released in 1969 , drawing an x rating . by today 's standards , it would be hard pressed to pull an r rating . jon voight , who has been better , is competent in his role as joe buck , an out of town hick wanting to make it big with the ladies in new york city . he meets a seedy street hustler named ratso rizzo , who tries to befriend buck for his own purposes . the two eventually forge a bond that is both touching and pathetic . as ratso , dustin hoffman simply shines . hoffman has often been brilliant , but never more so than in this portrayal . he is so into character that all else around him pales in comparison . losing the academy award to john wayne is one of the most ridiculous decisions ever made by the academy of motion picture arts and sciences . director schlessinger has a deft hand with his production , but this film has a grungy underbelly that leaves a bad taste in the mouth of the viewer . worth seeing for hoffman 's performance alone .\n",
      "Label: pos\n"
     ]
    }
   ],
   "source": [
    "print(\"Text tokens:\", first_example.text)\n",
    "print(\"Full Review:\", \" \".join(first_example.text))\n",
    "print(\"Label:\", first_example.label)"
   ]
  },
  {
   "cell_type": "markdown",
   "id": "4e8f53af",
   "metadata": {},
   "source": [
    "## Create dataloaders"
   ]
  },
  {
   "cell_type": "code",
   "execution_count": 10,
   "id": "4e51f5e6",
   "metadata": {},
   "outputs": [
    {
     "data": {
      "text/plain": [
       "device(type='cuda')"
      ]
     },
     "execution_count": 10,
     "metadata": {},
     "output_type": "execute_result"
    }
   ],
   "source": [
    "device = torch.device(\"cuda\" if torch.cuda.is_available() else \"cpu\")\n",
    "device"
   ]
  },
  {
   "cell_type": "code",
   "execution_count": 11,
   "id": "8b124ad1",
   "metadata": {},
   "outputs": [
    {
     "data": {
      "text/plain": [
       "<torchtext.data.dataset.Dataset at 0x1e5260bc2f0>"
      ]
     },
     "execution_count": 11,
     "metadata": {},
     "output_type": "execute_result"
    }
   ],
   "source": [
    "train_dataset"
   ]
  },
  {
   "cell_type": "code",
   "execution_count": 12,
   "id": "cc411914",
   "metadata": {},
   "outputs": [],
   "source": [
    "train_text_field.build_vocab(train_dataset)\n",
    "train_label_field.build_vocab(train_dataset)\n"
   ]
  },
  {
   "cell_type": "code",
   "execution_count": 13,
   "id": "3a16f8b3",
   "metadata": {},
   "outputs": [],
   "source": [
    "BATCH_SIZE = 32\n",
    "\n",
    "train_iter = data.BucketIterator(\n",
    "                                 dataset=train_dataset, \n",
    "                                 batch_size = BATCH_SIZE, \n",
    "                                 sort_key=lambda x: len(x.text), #sort so batches require less padding\n",
    "                                 sort_within_batch=True,\n",
    "                                 device = device)\n",
    "\n",
    "validation_iter = data.BucketIterator(\n",
    "                                 dataset=validation_dataset, \n",
    "                                 batch_size = BATCH_SIZE, \n",
    "                                 sort_key=lambda x: len(x.text), #sort so batches require less padding\n",
    "                                 sort_within_batch=True,\n",
    "                                 device = device)\n",
    "\n",
    "test_iter = data.BucketIterator(\n",
    "                                 dataset=test_dataset, \n",
    "                                 batch_size = BATCH_SIZE, \n",
    "                                 sort_key=lambda x: len(x.text), #sort so batches require less padding\n",
    "                                 sort_within_batch=True,\n",
    "                                 device = device)"
   ]
  },
  {
   "cell_type": "code",
   "execution_count": 14,
   "id": "eaaa01b4",
   "metadata": {},
   "outputs": [
    {
     "name": "stdout",
     "output_type": "stream",
     "text": [
      "Length of train_iter: 625 batches of 32\n"
     ]
    }
   ],
   "source": [
    "print(f'Length of train_iter: {len(train_iter)} batches of {BATCH_SIZE}')"
   ]
  },
  {
   "cell_type": "code",
   "execution_count": 15,
   "id": "0d48329c",
   "metadata": {},
   "outputs": [
    {
     "data": {
      "text/plain": [
       "(625, 157, 782)"
      ]
     },
     "execution_count": 15,
     "metadata": {},
     "output_type": "execute_result"
    }
   ],
   "source": [
    "len(train_iter), len(validation_iter), len(test_iter)"
   ]
  },
  {
   "cell_type": "code",
   "execution_count": 16,
   "id": "12b4d2e1",
   "metadata": {},
   "outputs": [
    {
     "data": {
      "text/plain": [
       "\n",
       "[torchtext.data.batch.Batch of size 32]\n",
       "\t[.text]:('[torch.cuda.LongTensor of size 795x32 (GPU 0)]', '[torch.cuda.LongTensor of size 32 (GPU 0)]')\n",
       "\t[.label]:[torch.cuda.LongTensor of size 32 (GPU 0)]"
      ]
     },
     "execution_count": 16,
     "metadata": {},
     "output_type": "execute_result"
    }
   ],
   "source": [
    "#let's see what is in train_iter\n",
    "first_batch = next(iter(train_iter))\n",
    "first_batch"
   ]
  },
  {
   "cell_type": "code",
   "execution_count": 17,
   "id": "c6bd368b",
   "metadata": {},
   "outputs": [],
   "source": [
    "first_batch_features, first_batch_lengths = first_batch.text\n",
    "first_batch_labels = first_batch.label"
   ]
  },
  {
   "cell_type": "code",
   "execution_count": 18,
   "id": "951fa1e6",
   "metadata": {},
   "outputs": [
    {
     "data": {
      "text/plain": [
       "(torch.Size([795, 32]), torch.Size([32]), torch.Size([32]))"
      ]
     },
     "execution_count": 18,
     "metadata": {},
     "output_type": "execute_result"
    }
   ],
   "source": [
    "first_batch_features.shape, first_batch_lengths.shape, first_batch_labels.shape"
   ]
  },
  {
   "cell_type": "code",
   "execution_count": 19,
   "id": "c91b9658",
   "metadata": {},
   "outputs": [
    {
     "data": {
      "text/plain": [
       "tensor([   65,     2,   716,    25, 13579,  1764,  1522, 13230,     8,   989,\n",
       "            2,   300,   187,     7,   106,  1094,     7,     2,   444,   217,\n",
       "            3,    32,  8080,     2,  1480,    22,   216,  1003,     4,     6,\n",
       "          965,  1271,   158,   300,   113,     9,     6,  1419,     3,  1977,\n",
       "           17,  9720,     5,     3,    20,     2,   461,   564,     3,     6,\n",
       "          573,   965,   182,    38,   358,  7304,    18, 38317,    16,    75,\n",
       "            9,  4521,    52,   358,    16,   916,   475,   166,     3,  1177,\n",
       "            3,  6792,     5,    99, 16020,  1212,    90,     6,   760,     4,\n",
       "           32,  1684,   224,    45,     2,   472,    14,    21,   103,     2,\n",
       "         3923,  2026,   773,     2,    25,  1611,     9,    14,   213,     2,\n",
       "          169,    16,  1751,     5,     2,  9364,    16,  9247,  6572,     3,\n",
       "          213,   508,     5,  2228, 48196,     4,    32,    68,  2038,    22,\n",
       "            6,  4629,    45, 13841,  8111,    16,     2,    93,     5,     2,\n",
       "          326,     3,    37,     7,     2,  7600,   123,     8,  8637,  3813,\n",
       "           13, 12048,     4,    13, 16068,     2,  2381,    21,     2,   642,\n",
       "            4, 13230,   288,    38,   102,  4331,    35, 12487,     5,  1765,\n",
       "           35,   424,  5654,     3,   102, 22365,    35,  5654,     2,   377,\n",
       "         2151,     3,     5,   102,   801,  1074,  1564,    45,  1719,    65,\n",
       "           40, 12058,     8,    36,   287,     4,   221,     3, 13230,   129,\n",
       "          743,    95,     2, 55365,  3730,     7, 26038,   916,    44,  4422,\n",
       "         3792,     2,  1175,  8371,    28,    32, 43701,  3104,    26,  6403,\n",
       "         4120,   828, 22387,    30,     3,    49,   163,    44,    77,   349,\n",
       "            7,     6, 14308,   422,    24,    80,  1258, 33334,     7,     2,\n",
       "          444, 16370,    18, 38317,    84,    29,  2730,  1165,    26,    34,\n",
       "         1652,  1735,   916,   381,    28,  4517,  2098,     5,  4675,  2356,\n",
       "            3,   122,     7, 13230,    16,  1132,  8991,     3,    33,    74,\n",
       "         1055,    11,  2584,    30,     4,   327,     3,    32,   288,    38,\n",
       "            2,  3817,     5,     2,   123,    14,  3050,     8,   383,    34,\n",
       "           75,     4,    21,   473,     3,    32,   295,   198,     6,  9067,\n",
       "            7,   323,  1686,   123,     8,   137,   102,     2,  1013, 10132,\n",
       "            4,    32,   288,    38,     2,   175,     7, 13841,  8111,    28,\n",
       "          253,     2,   104,   417, 14311,   169,     7,     2,   642,    30,\n",
       "            8,   137,   102,     6,  1498,  7277,   524,    46,     2,   624,\n",
       "           89,    98,    35,  3620, 25122,     4,    12,    71,   858,    14,\n",
       "            3,    77,    13,  7174,    31,    92,  1782,     8,   849,     3,\n",
       "        13230,    66,    35,    98,   457,     8,   734,    52,     3,    21,\n",
       "          473,    34,  1091,  8991,    49,    34,   716,   595,   496,  2287,\n",
       "            4,    20,    10,     9,     3,    32, 10011,     2,  5521,     7,\n",
       "          300,   113,     8,  1439,   216,     2,   358,   123,     7,  6857,\n",
       "          916,   154,    20, 66054, 22426,     3,  1454,  5426,     5,  1746,\n",
       "         5284,     3,    20,    85,    20,     2,   175,     7,   198,    17,\n",
       "         1475,  1074,    14,    19,  1086,  3463,   475,   154,    20,    14,\n",
       "            7,  2880, 71495,    18, 17640,    86,   350,   383,     2,    75,\n",
       "            7,   358, 18925,     3, 13230,  9841,   123,    45,   980, 12517,\n",
       "           11,   679,     8,  8322,   980,  4110,     4,    11,    34,  2505,\n",
       "           26,     2,  1106,     5,  9525,     7,   444,     3,    32,   791,\n",
       "           22, 20347,  4758,     3,   288,    38,     2,   590,     7,   485,\n",
       "            3,  3588,     5,  5713,     5,  5326,   647,    67,   185,   136,\n",
       "         1251,  4756,   311,    73,     3,   284, 13230,     9,    31,  6341,\n",
       "           26,   110,     3,    32,     9,    68,    17,  2872,   211,     8,\n",
       "         1439,  2869,     7,   759,  3257,     5,  4636,  1686,  8212,  7592,\n",
       "          110,     4,   221,     3,    32,    84,    29,   350,  1359,     2,\n",
       "         4499,   145,    20,    57,    13,     9,     2,   148,     7,    10,\n",
       "            4,   327,     3,    32,   108, 46096,   160,     8,     2,  6933,\n",
       "            3,     8,   137,   102,     6,   370,    17,   373,   207,    46,\n",
       "            2,  1082,    91,    71,  3018,  1199,  2032,    45,     2, 11171,\n",
       "            5, 15247,     7, 26137,    18,   835,   965,  1271,   158,   300,\n",
       "          113,    53,     8,    36,    37,     7,     2,   135,    25,  3878,\n",
       "          105,     4,    50,    80,     6,   628,     7,  1353,   916,     5,\n",
       "         1229,    73,    12,    66,   129,    35,  1893,   223,     3,     5,\n",
       "           68,     2,   104,  7026,     7,    25,  4417,    66,    36,  1357,\n",
       "            8,   180,   157,   172,    11,   106,  3735,  4721,     4, 13230,\n",
       "           53,    98,  4657,     2,  3040,     8,  1572,    49, 25128,  1229,\n",
       "            4,    12,    19,  3792,     8,    79,    14,     3,    65,    32,\n",
       "         2509,    52,  3688,    11,    34,    15, 69198,    15,  4499,     3,\n",
       "           32,   288,    38, 14814,     5,  3319, 43831,     3,    21,    81,\n",
       "           34,   122,   104,  2147,   123,     4, 13230,    16,  1178,    21,\n",
       "            2,  3492,     9,    26,  2635,    11,     2,   109,    32,  1993,\n",
       "         2869,     8,   316,    56,  1322,     3,   256,    86,    51,   730,\n",
       "          198,  2278,  1885,     3,     5,    32, 17099,   110,    22,   645,\n",
       "         1820,    28,     6,  2171,     7,  9808,     5,   172,  2967,    30,\n",
       "           74,    65,  1748,     4,    50,     9,     6,   239,     7,  7294,\n",
       "          957,     2,  5506,     5,  4736,     3,    24,    14,     9,   964,\n",
       "         1811,   249,    10,     9,     2,  1020,    11,    73, 13230,  2079,\n",
       "           67,     5,  1893,   444,     4,     5,   115,    39,     3,    12,\n",
       "           54,    29,   118,    13,   642,    89,    35,    92,  3317,    77,\n",
       "           10,    31,    92,     6,   965, 19292,    18,  1453,   677,     7,\n",
       "         1804,   167,     3,    11,   106,    11,  1183,   182,    38,   801,\n",
       "         1229,     3,    13,   642,    84,  3059,     6,  1289,   186,  1341,\n",
       "            4,     1,     1,     1,     1], device='cuda:0')"
      ]
     },
     "execution_count": 19,
     "metadata": {},
     "output_type": "execute_result"
    }
   ],
   "source": [
    "first_batch_features[:,1]"
   ]
  },
  {
   "cell_type": "code",
   "execution_count": 20,
   "id": "783acde8",
   "metadata": {},
   "outputs": [
    {
     "name": "stdout",
     "output_type": "stream",
     "text": [
      "21\n"
     ]
    }
   ],
   "source": [
    "torch.manual_seed(26)\n",
    "random_index = torch.randint(0, 32, size=[1]).item()\n",
    "print(random_index)\n",
    "\n",
    "review, label = first_batch_features[:,random_index], first_batch_labels[random_index]"
   ]
  },
  {
   "cell_type": "markdown",
   "id": "40e6097a",
   "metadata": {},
   "source": [
    "Each word is assigned an index"
   ]
  },
  {
   "cell_type": "code",
   "execution_count": 21,
   "id": "7110f5fd",
   "metadata": {},
   "outputs": [
    {
     "name": "stdout",
     "output_type": "stream",
     "text": [
      "young mr. lincoln marks the first film of the director / star collaboration of john ford and henry fonda . i recall years ago fonda telling that as a young actor he was understandably nervous about playing abraham lincoln and scared he would n't live up to the challenge.<br /><br />john ford before the shooting starts put him at ease by saying he was n't going to be playing the great emancipator , but just a jack - leg prairie lawyer . that being settled fonda headed a cast that john ford directed into a classic film.<br /><br />this is not a biographical film of lincoln . that had come before in the sound era with walter huston and a year after young mr. lincoln , raymond massey did the pulitzer prize winning play by robert sherwood abe lincoln in illinois . massey still remains the definitive lincoln.<br /><br />but as ford said , fonda was n't playing the great emancipator just a small town lawyer in illinois . the film encompasses about 10 years of lincoln 's early life . we see him clerking in a general store , getting some law books from an immigrant pioneer family whose path he would cross again later in the story . and his romance with ann rutledge with her early death leaving lincoln a most melancholy being.<br /><br />fast forward about 10 years and lincoln is now a practicing attorney beginning to get some notice . he 's served a couple of terms in the legislature , but he 's back in private practice not really sure if politics is for him.<br /><br />this is where the bulk of the action takes place . the two sons of that family he 'd gotten the law books from way back when are accused of murder . he offers to defend them . and not an ordinary murder but one of a deputy sheriff . < br /><br />the trial itself is fiction , but the gambit used in the defense of richard cromwell and eddie quillan who played the two sons is based on a real case lincoln defended . i 'll say no more.<br /><br />other than the performances , the great strength of young mr. lincoln is the way john ford captures the mood and atmosphere and setting of a small illinois prairie town in a fourth of july celebration . it 's almost like you 're watching a newsreel . and it was the mood of the country itself , young , vibrant and growing.<br /><br />fans of john ford films will recognize two musical themes here that were repeated in later films . during the romantic interlude at the beginning with fonda and pauline moore who played ann rutledge the music in the background is the same theme used in the man who shot liberty valance for vera miles . and at a dance , the tune lovely susan brown that fonda and marjorie weaver who plays mary todd is the same one fonda danced with cathy downs to , in my darling clementine at the dance for the raising of a church in tombstone . < br /><br />lincoln will forever be a favorite subject of biographers and dramatists because of two reasons , i believe . the first is he 's the living embodiment of our own american mythology about people rising from the very bottom to the pinnacle of power through their own efforts . in fact young mr. lincoln very graphically shows the background lincoln came from . and secondly the fact that he was our president during the greatest crisis in american history and that he made a singularly good and moral decision to free slaves during the civil war , albeit for some necessary political reasons . his assassination assured his place in history.<br /><br />besides fonda and others i 've mentioned special praise should also go to fred kohler , jr. and ward bond , the two town louts , kohler being the murder victim and bond the chief accuser . also donald meek as the prosecuting attorney and alice brady in what turned out to be her last film as the pioneer mother of cromwell and quillan . and a very nice performance by spencer charters who specialized in rustic characters as the judge.<br /><br />for a film that captures the drama and romance of the time it 's set in , you ca n't do better than young mr. lincoln . <pad> <pad> <pad> <pad> <pad> <pad> <pad> <pad> <pad> <pad> <pad> <pad> <pad> <pad> <pad> <pad> <pad> <pad> <pad> <pad> <pad> <pad> <pad> <pad> <pad> <pad> <pad> <pad> <pad> <pad> <pad> <pad> <pad> <pad> <pad> <pad> <pad> <pad> <pad> <pad> <pad> <pad> <pad> \n"
     ]
    }
   ],
   "source": [
    "string = \"\"\n",
    "for word in [train_text_field.vocab.itos[index] for index in review]:\n",
    "    # print(index)\n",
    "    string += word + \" \"\n",
    "\n",
    "print(string)"
   ]
  },
  {
   "cell_type": "markdown",
   "id": "f14ab2cf",
   "metadata": {},
   "source": [
    "## Mapping vocab to nlp"
   ]
  },
  {
   "cell_type": "markdown",
   "id": "a9588cf1",
   "metadata": {},
   "source": [
    "I need to confirm that spacy shares the same vocab space"
   ]
  },
  {
   "cell_type": "code",
   "execution_count": 22,
   "id": "ef5aa70b",
   "metadata": {},
   "outputs": [
    {
     "data": {
      "text/plain": [
       "15039355625730079975"
      ]
     },
     "execution_count": 22,
     "metadata": {},
     "output_type": "execute_result"
    }
   ],
   "source": [
    "nlp.vocab.strings['chances']"
   ]
  },
  {
   "cell_type": "code",
   "execution_count": 23,
   "id": "0d007256",
   "metadata": {},
   "outputs": [
    {
     "data": {
      "text/plain": [
       "array([-0.14905  ,  0.25543  , -0.37928  ,  0.030789 , -0.15589  ,\n",
       "       -0.45153  , -0.31064  , -0.20258  ,  0.1621   ,  2.7579   ,\n",
       "       -0.33164  ,  0.060044 , -0.28882  ,  0.25608  ,  0.10411  ,\n",
       "        0.12334  , -0.35409  ,  0.38205  , -0.0050199,  0.23366  ,\n",
       "       -0.57135  , -0.0094581,  0.066733 , -0.07396  ,  0.081748 ,\n",
       "        0.0051209,  0.10773  ,  0.060046 ,  0.063619 , -0.44645  ,\n",
       "       -0.11734  , -0.32601  ,  0.16737  , -0.011173 , -0.0054819,\n",
       "        0.41964  ,  0.1914   , -0.12885  ,  0.28556  , -0.24618  ,\n",
       "       -0.067172 ,  0.19706  , -0.11392  ,  0.10877  , -0.013514 ,\n",
       "       -0.31943  , -0.21434  ,  0.21126  ,  0.079767 ,  0.13229  ,\n",
       "        0.27142  ,  0.18309  ,  0.30422  , -0.59849  , -0.42075  ,\n",
       "       -0.10877  ,  0.06238  , -0.15703  ,  0.011968 ,  0.17417  ,\n",
       "       -0.041132 , -0.16108  , -0.24274  ,  0.035799 ,  0.21382  ,\n",
       "        0.24716  ,  0.080415 , -0.11411  ,  0.50253  , -0.05171  ,\n",
       "        0.47445  ,  0.25128  ,  0.18243  ,  0.087446 , -0.36128  ,\n",
       "       -0.12893  ,  0.15703  , -0.3084   ,  0.26701  ,  0.15229  ,\n",
       "       -0.38385  , -0.1466   ,  0.16559  , -0.048838 , -0.058533 ,\n",
       "       -0.056878 ,  0.23639  ,  0.02214  , -0.014583 ,  0.16045  ,\n",
       "       -0.033527 , -0.018494 ,  0.094521 ,  0.18791  , -0.45634  ,\n",
       "       -0.16399  ,  0.28381  , -0.50831  , -0.49775  ,  0.74201  ,\n",
       "       -0.3299   ,  0.014812 ,  0.43415  ,  0.18043  ,  0.4714   ,\n",
       "       -1.3608   ,  0.073296 ,  0.11545  ,  0.13998  ,  0.43527  ,\n",
       "        0.48891  , -0.033662 , -0.060996 , -0.11002  ,  0.031283 ,\n",
       "        0.12503  , -0.12571  ,  0.18304  , -0.066482 , -0.4142   ,\n",
       "        0.38243  ,  0.14747  ,  0.24096  ,  0.02372  ,  0.20118  ,\n",
       "       -0.19681  , -0.2529   ,  0.40783  , -0.44866  , -0.03118  ,\n",
       "       -0.083076 ,  0.12937  , -0.057893 , -0.13963  ,  0.36359  ,\n",
       "       -0.01105  ,  0.095871 , -0.035217 , -0.24946  , -0.44553  ,\n",
       "       -1.3605   ,  0.41764  ,  0.30216  , -0.30377  , -0.14045  ,\n",
       "       -0.10446  , -0.20871  ,  0.31704  ,  0.036472 ,  0.6317   ,\n",
       "       -0.032222 ,  0.039372 ,  0.28581  , -0.35706  , -0.057827 ,\n",
       "        0.12433  , -0.19303  ,  0.31305  ,  0.080802 , -0.51136  ,\n",
       "       -0.04992  , -0.20451  , -0.11613  , -0.17412  ,  0.27242  ,\n",
       "       -0.15079  ,  0.26192  ,  0.20563  ,  0.36893  ,  0.1188   ,\n",
       "       -0.20608  ,  0.073308 ,  0.31609  , -0.056122 ,  0.010336 ,\n",
       "        0.059635 ,  0.1286   , -0.035072 ,  0.21158  ,  0.41893  ,\n",
       "       -0.20156  ,  0.16698  ,  0.064969 ,  0.20575  ,  0.076198 ,\n",
       "        0.029477 ,  0.32953  , -0.054156 , -0.1891   ,  0.14324  ,\n",
       "        0.72966  , -0.13927  ,  0.035801 ,  0.0031418,  0.30888  ,\n",
       "        0.060007 , -0.15553  ,  0.052008 ,  0.058498 ,  0.1394   ,\n",
       "        0.59769  , -0.37349  , -0.13189  , -0.17176  , -0.30881  ,\n",
       "       -0.18623  , -0.43984  , -0.081934 , -0.011292 ,  0.40532  ,\n",
       "        0.15821  , -0.2148   ,  0.040146 ,  0.31552  , -0.23776  ,\n",
       "        0.032583 , -0.074306 , -0.069486 , -0.15799  , -0.16732  ,\n",
       "       -0.05905  , -0.24775  , -0.39476  , -0.27545  ,  0.081446 ,\n",
       "       -0.22979  ,  0.23537  , -0.43187  , -0.070862 ,  0.20921  ,\n",
       "        0.25888  ,  0.13133  ,  0.19844  , -0.13203  , -0.21026  ,\n",
       "       -0.020615 ,  0.14007  ,  0.13867  , -0.64849  , -0.2762   ,\n",
       "        0.53116  , -0.32422  , -0.45361  ,  0.3069   ,  0.04821  ,\n",
       "       -0.18779  ,  0.41579  ,  0.52793  ,  0.11876  ,  0.37515  ,\n",
       "       -0.15705  , -0.26927  , -0.021322 , -0.094239 , -0.20263  ,\n",
       "        0.54244  , -0.74595  ,  0.16924  ,  0.10866  , -0.083551 ,\n",
       "       -0.15684  ,  0.15955  ,  0.097339 ,  0.48573  ,  0.383    ,\n",
       "        0.28539  , -0.10553  , -0.016055 ,  0.12946  ,  0.14475  ,\n",
       "       -0.097986 , -0.090807 , -0.33733  , -0.10335  , -0.29293  ,\n",
       "        0.062474 , -0.032758 ,  0.15912  , -0.14973  ,  0.26211  ,\n",
       "       -0.25786  , -0.1783   , -0.57743  ,  0.40284  ,  0.34206  ,\n",
       "       -0.26618  ,  0.052563 , -0.23073  ,  0.27592  ,  0.22096  ,\n",
       "        0.01342  , -0.032347 , -0.34749  ,  0.045938 ,  0.43883  ,\n",
       "        0.38852  , -0.12161  , -0.57467  ,  0.45838  , -0.26637  ],\n",
       "      dtype=float32)"
      ]
     },
     "execution_count": 23,
     "metadata": {},
     "output_type": "execute_result"
    }
   ],
   "source": [
    "nlp(\"chances\")[0].vector   # returns a vector (nonzero if it’s in the pretrained vectors)"
   ]
  },
  {
   "cell_type": "code",
   "execution_count": 24,
   "id": "9860a81c",
   "metadata": {},
   "outputs": [
    {
     "data": {
      "text/plain": [
       "['<unk>',\n",
       " '<pad>',\n",
       " 'the',\n",
       " ',',\n",
       " '.',\n",
       " 'and',\n",
       " 'a',\n",
       " 'of',\n",
       " 'to',\n",
       " 'is',\n",
       " 'it',\n",
       " 'in',\n",
       " 'i',\n",
       " 'this',\n",
       " 'that',\n",
       " '\"',\n",
       " \"'s\",\n",
       " '-',\n",
       " '/><br',\n",
       " 'was',\n",
       " 'as',\n",
       " 'for',\n",
       " 'with',\n",
       " 'movie',\n",
       " 'but',\n",
       " 'film',\n",
       " 'on',\n",
       " 'you',\n",
       " '(',\n",
       " \"n't\",\n",
       " ')',\n",
       " 'not',\n",
       " 'he',\n",
       " 'are',\n",
       " 'his',\n",
       " 'have',\n",
       " 'be',\n",
       " 'one',\n",
       " 'at',\n",
       " 'all',\n",
       " 'they',\n",
       " 'by',\n",
       " '!',\n",
       " 'an',\n",
       " 'who',\n",
       " 'from',\n",
       " 'like',\n",
       " 'so',\n",
       " 'her',\n",
       " 'or',\n",
       " 'there',\n",
       " 'just',\n",
       " 'about',\n",
       " 'has',\n",
       " 'do',\n",
       " \"'\",\n",
       " 'out',\n",
       " 'if',\n",
       " 'some',\n",
       " 'what',\n",
       " 'good',\n",
       " '?',\n",
       " 'very',\n",
       " 'she',\n",
       " 'more',\n",
       " 'when',\n",
       " 'would',\n",
       " 'up',\n",
       " 'even',\n",
       " 'no',\n",
       " 'time',\n",
       " 'can',\n",
       " 'my',\n",
       " 'which',\n",
       " 'only',\n",
       " 'story',\n",
       " 'really',\n",
       " 'had',\n",
       " 'their',\n",
       " 'see',\n",
       " 'were',\n",
       " 'me',\n",
       " 'did',\n",
       " 'we',\n",
       " 'does',\n",
       " 'well',\n",
       " 'than',\n",
       " '...',\n",
       " 'much',\n",
       " 'could',\n",
       " 'get',\n",
       " 'people',\n",
       " 'been',\n",
       " 'bad',\n",
       " 'will',\n",
       " 'into',\n",
       " 'because',\n",
       " ':',\n",
       " 'also',\n",
       " 'other',\n",
       " 'great',\n",
       " 'first',\n",
       " 'how',\n",
       " 'him',\n",
       " 'most',\n",
       " 'made',\n",
       " 'its',\n",
       " 'make',\n",
       " 'then',\n",
       " 'way',\n",
       " 'them',\n",
       " 'too',\n",
       " 'any',\n",
       " 'movies',\n",
       " '<',\n",
       " 'after',\n",
       " '/>the',\n",
       " 'br',\n",
       " 'think',\n",
       " 'characters',\n",
       " 'character',\n",
       " 'watch',\n",
       " 'two',\n",
       " 'films',\n",
       " ';',\n",
       " 'being',\n",
       " 'many',\n",
       " 'seen',\n",
       " 'plot',\n",
       " 'never',\n",
       " 'life',\n",
       " 'acting',\n",
       " 'little',\n",
       " 'where',\n",
       " 'love',\n",
       " 'best',\n",
       " 'over',\n",
       " 'show',\n",
       " 'know',\n",
       " 'ever',\n",
       " 'off',\n",
       " 'man',\n",
       " 'better',\n",
       " 'your',\n",
       " '*',\n",
       " 'here',\n",
       " 'still',\n",
       " 'scene',\n",
       " 'end',\n",
       " 'say',\n",
       " 'should',\n",
       " 'these',\n",
       " 'scenes',\n",
       " 'why',\n",
       " 'such',\n",
       " 'while',\n",
       " 'go',\n",
       " 'something',\n",
       " 'through',\n",
       " \"'ve\",\n",
       " 'back',\n",
       " '/',\n",
       " 'real',\n",
       " 'those',\n",
       " 'watching',\n",
       " 'years',\n",
       " 'actors',\n",
       " 'though',\n",
       " \"'m\",\n",
       " 'director',\n",
       " 'thing',\n",
       " 'old',\n",
       " 'new',\n",
       " 'before',\n",
       " 'makes',\n",
       " 'work',\n",
       " 'nothing',\n",
       " 'now',\n",
       " 'actually',\n",
       " 'funny',\n",
       " 'find',\n",
       " 'another',\n",
       " 'look',\n",
       " 'same',\n",
       " '--',\n",
       " 'going',\n",
       " 'few',\n",
       " 'part',\n",
       " 'lot',\n",
       " 'every',\n",
       " 'again',\n",
       " 'world',\n",
       " '/>i',\n",
       " 'cast',\n",
       " 'want',\n",
       " 'ca',\n",
       " 'quite',\n",
       " '&',\n",
       " 'us',\n",
       " 'down',\n",
       " 'got',\n",
       " 'around',\n",
       " 'young',\n",
       " \"'re\",\n",
       " 'pretty',\n",
       " 'seems',\n",
       " 'things',\n",
       " 'horror',\n",
       " 'big',\n",
       " 'take',\n",
       " 'fact',\n",
       " 'enough',\n",
       " 'long',\n",
       " 'between',\n",
       " 'thought',\n",
       " 'own',\n",
       " 'both',\n",
       " 'series',\n",
       " 'action',\n",
       " 'give',\n",
       " 'may',\n",
       " 'however',\n",
       " 'must',\n",
       " 'without',\n",
       " 'right',\n",
       " 'original',\n",
       " 'always',\n",
       " 'comedy',\n",
       " 'gets',\n",
       " 'point',\n",
       " 'almost',\n",
       " 'come',\n",
       " 'times',\n",
       " 'role',\n",
       " 'saw',\n",
       " 'least',\n",
       " 'family',\n",
       " 'whole',\n",
       " 'interesting',\n",
       " 'bit',\n",
       " 'done',\n",
       " 'making',\n",
       " 'script',\n",
       " 'music',\n",
       " 'anything',\n",
       " 'far',\n",
       " 'last',\n",
       " 'feel',\n",
       " 'guy',\n",
       " 'since',\n",
       " 'minutes',\n",
       " 'might',\n",
       " 'performance',\n",
       " 'probably',\n",
       " 'am',\n",
       " 'girl',\n",
       " 'rather',\n",
       " 'tv',\n",
       " 'woman',\n",
       " 'worst',\n",
       " 'kind',\n",
       " 'yet',\n",
       " \"'ll\",\n",
       " 'away',\n",
       " 'hard',\n",
       " 'day',\n",
       " 'sure',\n",
       " 'fun',\n",
       " 'found',\n",
       " 'anyone',\n",
       " 'each',\n",
       " 'course',\n",
       " 'comes',\n",
       " 'played',\n",
       " 'our',\n",
       " 'believe',\n",
       " 'especially',\n",
       " 'looking',\n",
       " 'trying',\n",
       " 'set',\n",
       " 'goes',\n",
       " 'screen',\n",
       " 'having',\n",
       " 'actor',\n",
       " 'although',\n",
       " 'book',\n",
       " 'put',\n",
       " 'different',\n",
       " 'looks',\n",
       " 'money',\n",
       " 'reason',\n",
       " 'place',\n",
       " '/>this',\n",
       " 'sense',\n",
       " 'dvd',\n",
       " 'shows',\n",
       " 'once',\n",
       " 'true',\n",
       " 'ending',\n",
       " 'job',\n",
       " 'american',\n",
       " 'watched',\n",
       " 'everything',\n",
       " 'maybe',\n",
       " 'someone',\n",
       " 'year',\n",
       " \"'d\",\n",
       " 'plays',\n",
       " 'three',\n",
       " 'let',\n",
       " 'worth',\n",
       " 'effects',\n",
       " 'main',\n",
       " 'everyone',\n",
       " '10',\n",
       " 'seem',\n",
       " 'play',\n",
       " 'takes',\n",
       " 'together',\n",
       " 'wife',\n",
       " '2',\n",
       " 'night',\n",
       " 'version',\n",
       " 'john',\n",
       " 'later',\n",
       " 'special',\n",
       " 'beautiful',\n",
       " 'instead',\n",
       " 'said',\n",
       " 'during',\n",
       " 'left',\n",
       " 'high',\n",
       " 'audience',\n",
       " 'himself',\n",
       " 'house',\n",
       " 'half',\n",
       " 'war',\n",
       " 'excellent',\n",
       " 'star',\n",
       " 'seeing',\n",
       " 'shot',\n",
       " 'father',\n",
       " 'idea',\n",
       " 'black',\n",
       " 'read',\n",
       " 'mind',\n",
       " 'else',\n",
       " 'second',\n",
       " 'nice',\n",
       " 'less',\n",
       " 'simply',\n",
       " 'men',\n",
       " 'fan',\n",
       " 'used',\n",
       " 'completely',\n",
       " 'death',\n",
       " 'help',\n",
       " 'dead',\n",
       " 'hollywood',\n",
       " 'short',\n",
       " 'line',\n",
       " 'need',\n",
       " 'home',\n",
       " 'try',\n",
       " 'women',\n",
       " 'poor',\n",
       " 'use',\n",
       " 'until',\n",
       " 'enjoy',\n",
       " 'given',\n",
       " 'low',\n",
       " 'camera',\n",
       " 'classic',\n",
       " 'budget',\n",
       " 'kids',\n",
       " 'top',\n",
       " 'rest',\n",
       " 'production',\n",
       " 'performances',\n",
       " 'along',\n",
       " 'full',\n",
       " 'either',\n",
       " 'wrong',\n",
       " 'tell',\n",
       " 'friends',\n",
       " 'boring',\n",
       " 'truly',\n",
       " 'start',\n",
       " 'video',\n",
       " '..',\n",
       " 'remember',\n",
       " 'came',\n",
       " 'understand',\n",
       " 'awful',\n",
       " 'couple',\n",
       " 'next',\n",
       " 'stars',\n",
       " 'stupid',\n",
       " '/>it',\n",
       " 'wonderful',\n",
       " 'terrible',\n",
       " 'face',\n",
       " 'sex',\n",
       " 'mean',\n",
       " 'recommend',\n",
       " 'written',\n",
       " 'episode',\n",
       " 'playing',\n",
       " 'getting',\n",
       " 'moments',\n",
       " 'small',\n",
       " 'early',\n",
       " 'school',\n",
       " 'perhaps',\n",
       " 'keep',\n",
       " 'doing',\n",
       " 'perfect',\n",
       " 'often',\n",
       " 'others',\n",
       " 'person',\n",
       " 'name',\n",
       " 'human',\n",
       " 'style',\n",
       " 'gives',\n",
       " 'become',\n",
       " 'boy',\n",
       " 'liked',\n",
       " 'head',\n",
       " 'definitely',\n",
       " 'lost',\n",
       " 'live',\n",
       " 'dialogue',\n",
       " 'itself',\n",
       " 'felt',\n",
       " 'case',\n",
       " 'lines',\n",
       " 'piece',\n",
       " 'supposed',\n",
       " 'mother',\n",
       " 'white',\n",
       " 'children',\n",
       " 'went',\n",
       " 'entire',\n",
       " 'evil',\n",
       " 'cinema',\n",
       " 'against',\n",
       " 'killer',\n",
       " 'absolutely',\n",
       " 'certainly',\n",
       " 'sort',\n",
       " 'picture',\n",
       " 'waste',\n",
       " 'called',\n",
       " 'friend',\n",
       " 'entertaining',\n",
       " 'dark',\n",
       " 'finally',\n",
       " 'loved',\n",
       " 'becomes',\n",
       " 'several',\n",
       " 'problem',\n",
       " 'title',\n",
       " '3',\n",
       " 'worse',\n",
       " 'yes',\n",
       " 'hope',\n",
       " 'based',\n",
       " 'already',\n",
       " 'seemed',\n",
       " 'under',\n",
       " 'wanted',\n",
       " 'care',\n",
       " 'beginning',\n",
       " 'example',\n",
       " 'fans',\n",
       " '\\x96',\n",
       " 'laugh',\n",
       " 'drama',\n",
       " 'child',\n",
       " 'fine',\n",
       " 'lives',\n",
       " 'turn',\n",
       " 'son',\n",
       " 'direction',\n",
       " 'totally',\n",
       " 'sound',\n",
       " 'behind',\n",
       " 'humor',\n",
       " 'wants',\n",
       " 'oh',\n",
       " 'history',\n",
       " 'wo',\n",
       " 'amazing',\n",
       " 'enjoyed',\n",
       " 'past',\n",
       " 'quality',\n",
       " 'michael',\n",
       " 'heart',\n",
       " 'lead',\n",
       " 'final',\n",
       " 'guys',\n",
       " 'tries',\n",
       " 'able',\n",
       " 'writing',\n",
       " 'close',\n",
       " 'hand',\n",
       " 'guess',\n",
       " 'throughout',\n",
       " 'art',\n",
       " 'game',\n",
       " 'unfortunately',\n",
       " 'kill',\n",
       " 'turns',\n",
       " '<br',\n",
       " '>',\n",
       " 'side',\n",
       " 'works',\n",
       " 'car',\n",
       " 'despite',\n",
       " 'town',\n",
       " 'viewer',\n",
       " 'gave',\n",
       " 'starts',\n",
       " 'actress',\n",
       " 'genre',\n",
       " 'favorite',\n",
       " 'horrible',\n",
       " 'soon',\n",
       " 'sometimes',\n",
       " 'today',\n",
       " 'parts',\n",
       " 'run',\n",
       " 'flick',\n",
       " '1',\n",
       " 'days',\n",
       " 'eyes',\n",
       " 'kid',\n",
       " 'act',\n",
       " 'self',\n",
       " 'brilliant',\n",
       " 'girls',\n",
       " 'hour',\n",
       " 'directed',\n",
       " 'fight',\n",
       " 'city',\n",
       " 'obviously',\n",
       " 'late',\n",
       " 'blood',\n",
       " 'god',\n",
       " 'stuff',\n",
       " 'expect',\n",
       " '....',\n",
       " 'voice',\n",
       " 'themselves',\n",
       " 'strong',\n",
       " 'thinking',\n",
       " 'stories',\n",
       " 'writer',\n",
       " 'myself',\n",
       " 'etc',\n",
       " 'decent',\n",
       " 'heard',\n",
       " 'took',\n",
       " 'except',\n",
       " 'says',\n",
       " 'slow',\n",
       " 'killed',\n",
       " 'feeling',\n",
       " 'police',\n",
       " 'age',\n",
       " 'stop',\n",
       " 'type',\n",
       " 'daughter',\n",
       " 'highly',\n",
       " 'mr.',\n",
       " 'roles',\n",
       " 'matter',\n",
       " 'moment',\n",
       " 'murder',\n",
       " 'extremely',\n",
       " 'violence',\n",
       " 'leave',\n",
       " 'brother',\n",
       " 'happens',\n",
       " 'including',\n",
       " 'overall',\n",
       " 'involved',\n",
       " 'gore',\n",
       " 'known',\n",
       " 'lack',\n",
       " 'coming',\n",
       " 'hit',\n",
       " 'wonder',\n",
       " 'obvious',\n",
       " 'happened',\n",
       " 'hero',\n",
       " 'attempt',\n",
       " 'living',\n",
       " 'particularly',\n",
       " 'simple',\n",
       " 'told',\n",
       " 'chance',\n",
       " 'james',\n",
       " 'alone',\n",
       " 'looked',\n",
       " 'cut',\n",
       " 'score',\n",
       " 'group',\n",
       " 'shown',\n",
       " 'hell',\n",
       " 'experience',\n",
       " 'save',\n",
       " '/>there',\n",
       " 'running',\n",
       " 'husband',\n",
       " 'david',\n",
       " 'interest',\n",
       " 'sad',\n",
       " 'complete',\n",
       " 'happen',\n",
       " 'exactly',\n",
       " 'english',\n",
       " 'across',\n",
       " 'annoying',\n",
       " 'musical',\n",
       " 'ago',\n",
       " 'novel',\n",
       " 'usually',\n",
       " 'number',\n",
       " 'somewhat',\n",
       " 'none',\n",
       " 'cinematography',\n",
       " 'scary',\n",
       " 'released',\n",
       " 'change',\n",
       " 'song',\n",
       " 'possible',\n",
       " 'hours',\n",
       " 'serious',\n",
       " '/>in',\n",
       " 'huge',\n",
       " 'opening',\n",
       " 'documentary',\n",
       " 'ok',\n",
       " 'whose',\n",
       " 'talking',\n",
       " 'light',\n",
       " 'ends',\n",
       " 'usual',\n",
       " 'body',\n",
       " 'happy',\n",
       " 'king',\n",
       " 'please',\n",
       " 'relationship',\n",
       " 'ridiculous',\n",
       " 'crap',\n",
       " 'opinion',\n",
       " 'robert',\n",
       " 'taken',\n",
       " 'hilarious',\n",
       " 'middle',\n",
       " 'strange',\n",
       " 'cool',\n",
       " 'room',\n",
       " 'started',\n",
       " 'wish',\n",
       " 'career',\n",
       " '/>if',\n",
       " 'important',\n",
       " 'episodes',\n",
       " 'modern',\n",
       " 'saying',\n",
       " 'yourself',\n",
       " 'finds',\n",
       " 'jokes',\n",
       " 'mostly',\n",
       " 'turned',\n",
       " 'word',\n",
       " 'ones',\n",
       " 'order',\n",
       " 'shots',\n",
       " 'level',\n",
       " 'single',\n",
       " 'reality',\n",
       " 'five',\n",
       " 'seriously',\n",
       " 'comic',\n",
       " 'female',\n",
       " 'call',\n",
       " 'major',\n",
       " 'view',\n",
       " 'power',\n",
       " 'country',\n",
       " 'taking',\n",
       " '4',\n",
       " 'b',\n",
       " 'due',\n",
       " 'knew',\n",
       " '5',\n",
       " 'jack',\n",
       " 'tells',\n",
       " 'thriller',\n",
       " 'straight',\n",
       " 'four',\n",
       " 'knows',\n",
       " 'anyway',\n",
       " 'supporting',\n",
       " 'talent',\n",
       " 'songs',\n",
       " 'events',\n",
       " 'cheap',\n",
       " 'class',\n",
       " 'clearly',\n",
       " 'non',\n",
       " 'attention',\n",
       " 'basically',\n",
       " 'british',\n",
       " 'fast',\n",
       " 'local',\n",
       " 'words',\n",
       " 'future',\n",
       " 'silly',\n",
       " 'sequence',\n",
       " 'apparently',\n",
       " 'bring',\n",
       " 'easily',\n",
       " 'sets',\n",
       " 'lady',\n",
       " 'romantic',\n",
       " 'earth',\n",
       " 'giving',\n",
       " 'problems',\n",
       " 'paul',\n",
       " 'moving',\n",
       " 'talk',\n",
       " '/>but',\n",
       " 'appears',\n",
       " 'beyond',\n",
       " 'miss',\n",
       " 'upon',\n",
       " 'entertainment',\n",
       " 'needs',\n",
       " 'television',\n",
       " 'falls',\n",
       " 'similar',\n",
       " 'mystery',\n",
       " 'review',\n",
       " 'oscar',\n",
       " 'disappointed',\n",
       " 'whether',\n",
       " 'nearly',\n",
       " 'theater',\n",
       " 'predictable',\n",
       " 'ten',\n",
       " 'it.<br',\n",
       " 'feels',\n",
       " 'near',\n",
       " 'rating',\n",
       " 'rock',\n",
       " 'george',\n",
       " 'mention',\n",
       " 'york',\n",
       " 'above',\n",
       " 'animation',\n",
       " 'eye',\n",
       " 'fantastic',\n",
       " 'release',\n",
       " 'red',\n",
       " 'hate',\n",
       " 'sequel',\n",
       " 'bunch',\n",
       " 'enjoyable',\n",
       " 'points',\n",
       " 'within',\n",
       " 're',\n",
       " 'dull',\n",
       " 'easy',\n",
       " 'lee',\n",
       " 'message',\n",
       " 'named',\n",
       " 'stand',\n",
       " 'richard',\n",
       " 'team',\n",
       " 'using',\n",
       " 'clear',\n",
       " 'sister',\n",
       " 'actual',\n",
       " 'famous',\n",
       " 'storyline',\n",
       " 'showing',\n",
       " 'working',\n",
       " 'begins',\n",
       " 'comments',\n",
       " '/>and',\n",
       " 'die',\n",
       " 'stay',\n",
       " 'theme',\n",
       " 'add',\n",
       " 'typical',\n",
       " 'viewers',\n",
       " 'follow',\n",
       " 'certain',\n",
       " 'form',\n",
       " 'minute',\n",
       " 'surprised',\n",
       " 'editing',\n",
       " 'elements',\n",
       " 'season',\n",
       " 'ways',\n",
       " 'space',\n",
       " 'tried',\n",
       " 'fall',\n",
       " 'effort',\n",
       " 'realistic',\n",
       " 'weak',\n",
       " 'among',\n",
       " 'feature',\n",
       " 'figure',\n",
       " 'kept',\n",
       " 'material',\n",
       " 'herself',\n",
       " 'leads',\n",
       " 'lots',\n",
       " 'brought',\n",
       " 'french',\n",
       " 'gone',\n",
       " 'tale',\n",
       " 'check',\n",
       " 'de',\n",
       " 'buy',\n",
       " 'parents',\n",
       " 'doubt',\n",
       " 'movie.<br',\n",
       " 'disney',\n",
       " 'eventually',\n",
       " '/>a',\n",
       " 'means',\n",
       " 'deal',\n",
       " 'poorly',\n",
       " 'tom',\n",
       " 'viewing',\n",
       " 'greatest',\n",
       " 'filmed',\n",
       " 'general',\n",
       " 'japanese',\n",
       " 'sit',\n",
       " 'suspense',\n",
       " 'somehow',\n",
       " 'soundtrack',\n",
       " 'america',\n",
       " 'crime',\n",
       " 'dialog',\n",
       " 'sequences',\n",
       " 'peter',\n",
       " 'sexual',\n",
       " 'sorry',\n",
       " 'stage',\n",
       " 'wait',\n",
       " 'imagine',\n",
       " 'period',\n",
       " 'atmosphere',\n",
       " 'hear',\n",
       " 'lame',\n",
       " 'move',\n",
       " 'difficult',\n",
       " 'whatever',\n",
       " 'dog',\n",
       " 'learn',\n",
       " 'average',\n",
       " 'became',\n",
       " 'particular',\n",
       " 'zombie',\n",
       " 'dance',\n",
       " 'killing',\n",
       " 'indeed',\n",
       " 'possibly',\n",
       " 'third',\n",
       " 'premise',\n",
       " '$',\n",
       " 'rent',\n",
       " 'baby',\n",
       " 'nature',\n",
       " 'screenplay',\n",
       " 'reading',\n",
       " '20',\n",
       " 'avoid',\n",
       " 'decided',\n",
       " 'shame',\n",
       " 'joe',\n",
       " 'reviews',\n",
       " 'street',\n",
       " 'subject',\n",
       " 'film.<br',\n",
       " 'meets',\n",
       " 'romance',\n",
       " 'free',\n",
       " 'surprise',\n",
       " '/>as',\n",
       " 'expected',\n",
       " 'forget',\n",
       " 'leaves',\n",
       " 'truth',\n",
       " 'forward',\n",
       " 'society',\n",
       " 'begin',\n",
       " 'earlier',\n",
       " 'jane',\n",
       " 'fi',\n",
       " 'sci',\n",
       " 'write',\n",
       " 'needed',\n",
       " 'hot',\n",
       " 'realize',\n",
       " 'question',\n",
       " 'weird',\n",
       " 'unless',\n",
       " 'directors',\n",
       " 'forced',\n",
       " 'dramatic',\n",
       " 'nor',\n",
       " 'superb',\n",
       " 'credits',\n",
       " 'note',\n",
       " 'total',\n",
       " 'believable',\n",
       " 'okay',\n",
       " 'previous',\n",
       " 'footage',\n",
       " 'male',\n",
       " 'situation',\n",
       " 'crazy',\n",
       " 'monster',\n",
       " 'keeps',\n",
       " 'meet',\n",
       " 'whom',\n",
       " '`',\n",
       " 'open',\n",
       " 'acted',\n",
       " 'badly',\n",
       " 's',\n",
       " 'comment',\n",
       " 'creepy',\n",
       " 'deep',\n",
       " 'directing',\n",
       " 'features',\n",
       " 'mark',\n",
       " 'plus',\n",
       " 'ask',\n",
       " 'otherwise',\n",
       " 'dream',\n",
       " 'emotional',\n",
       " 'girlfriend',\n",
       " 'older',\n",
       " 'background',\n",
       " 'casting',\n",
       " 'effect',\n",
       " 'plenty',\n",
       " 'towards',\n",
       " 'writers',\n",
       " 'interested',\n",
       " 'fire',\n",
       " 'air',\n",
       " 'fantasy',\n",
       " 'laughs',\n",
       " 'hardly',\n",
       " 'personal',\n",
       " 'return',\n",
       " 'appear',\n",
       " 'brings',\n",
       " 'leading',\n",
       " 'perfectly',\n",
       " 'powerful',\n",
       " 'quickly',\n",
       " 'beauty',\n",
       " 'setting',\n",
       " 'battle',\n",
       " 'cheesy',\n",
       " 'imdb',\n",
       " 'memorable',\n",
       " 'sounds',\n",
       " 'various',\n",
       " 'admit',\n",
       " 'box',\n",
       " 'telling',\n",
       " 'development',\n",
       " 'present',\n",
       " 'result',\n",
       " 'rate',\n",
       " 'unique',\n",
       " 'create',\n",
       " 'joke',\n",
       " 'bill',\n",
       " 'incredibly',\n",
       " 'inside',\n",
       " 'break',\n",
       " 'cop',\n",
       " 'fighting',\n",
       " 'secret',\n",
       " 'match',\n",
       " 'potential',\n",
       " ...]"
      ]
     },
     "execution_count": 24,
     "metadata": {},
     "output_type": "execute_result"
    }
   ],
   "source": [
    "train_text_field.vocab.itos"
   ]
  },
  {
   "cell_type": "code",
   "execution_count": 25,
   "id": "144edcb8",
   "metadata": {},
   "outputs": [
    {
     "name": "stdout",
     "output_type": "stream",
     "text": [
      "<unk>\n",
      "[ 0.023091    0.20018685 -0.12443933 -0.11972667  0.48589635]\n",
      "\n",
      "\n",
      "<pad>\n",
      "[ 0.07241767  0.32118002 -0.14560632 -0.04326934  0.24734968]\n",
      "\n",
      "\n",
      "the\n",
      "[ 0.27204  -0.06203  -0.1884    0.023225 -0.018158]\n",
      "\n",
      "\n",
      ",\n",
      "[-0.082752  0.67204  -0.14987  -0.064983  0.056491]\n",
      "\n",
      "\n",
      ".\n",
      "[ 0.012001  0.20751  -0.12578  -0.59325   0.12525 ]\n",
      "\n",
      "\n",
      "and\n",
      "[-0.18567   0.066008 -0.25209  -0.11725   0.26513 ]\n",
      "\n",
      "\n"
     ]
    }
   ],
   "source": [
    "for token in train_text_field.vocab.itos[:6]:\n",
    "    print(token)\n",
    "    print(f'{nlp(token).vector[:5]}')\n",
    "    print('\\n')"
   ]
  },
  {
   "cell_type": "code",
   "execution_count": 26,
   "id": "2cbb867e",
   "metadata": {},
   "outputs": [],
   "source": [
    "emb_dim = nlp.vocab.vectors_length\n",
    "vocab_size = len(train_text_field.vocab)"
   ]
  },
  {
   "cell_type": "code",
   "execution_count": 27,
   "id": "45bb9928",
   "metadata": {},
   "outputs": [
    {
     "data": {
      "text/plain": [
       "<spacy.vocab.Vocab at 0x1e52610f270>"
      ]
     },
     "execution_count": 27,
     "metadata": {},
     "output_type": "execute_result"
    }
   ],
   "source": [
    "nlp.vocab"
   ]
  },
  {
   "cell_type": "code",
   "execution_count": null,
   "id": "e341f1d8",
   "metadata": {},
   "outputs": [
    {
     "data": {
      "text/plain": [
       "torch.Size([90636, 300])"
      ]
     },
     "execution_count": 28,
     "metadata": {},
     "output_type": "execute_result"
    }
   ],
   "source": [
    "embedding_matrix = torch.empty((vocab_size,emb_dim))\n",
    "#map indices from torchtext to spacy\n",
    "for index, token in enumerate(train_text_field.vocab.itos):\n",
    "    embedding_matrix[index] = torch.tensor(nlp.vocab[token].vector, device=device, dtype=torch.float)\n",
    "\n",
    "embedding_matrix.shape\n"
   ]
  },
  {
   "cell_type": "markdown",
   "id": "984ae234",
   "metadata": {},
   "source": [
    "Now, each index in train_text_field.vocab.itos is mapped to a length 300 vector embedding"
   ]
  },
  {
   "cell_type": "code",
   "execution_count": 29,
   "id": "d0e9aefa",
   "metadata": {},
   "outputs": [
    {
     "data": {
      "text/plain": [
       "(tensor([ 0.2720, -0.0620, -0.1884,  0.0232, -0.0182]),\n",
       " array([ 0.27204 , -0.06203 , -0.1884  ,  0.023225, -0.018158],\n",
       "       dtype=float32))"
      ]
     },
     "execution_count": 29,
     "metadata": {},
     "output_type": "execute_result"
    }
   ],
   "source": [
    "embedding_matrix[2][:5], nlp.vocab['the'].vector[:5]"
   ]
  },
  {
   "cell_type": "markdown",
   "id": "b45c0a88",
   "metadata": {},
   "source": [
    "# Creating Model_0 (Bi-LSTM based)"
   ]
  },
  {
   "cell_type": "code",
   "execution_count": 30,
   "id": "144c3db7",
   "metadata": {},
   "outputs": [],
   "source": [
    "class Model_0(nn.Module):\n",
    "    def __init__(self, emb_matrix):\n",
    "        super().__init__()\n",
    "        self.embedding = nn.Embedding.from_pretrained(emb_matrix, freeze=True)\n",
    "        \n",
    "\n",
    "    def forward(self, input_indices):\n",
    "        word_embedding = self.embedding(input_indices)\n",
    "        return word_embedding"
   ]
  },
  {
   "cell_type": "code",
   "execution_count": 31,
   "id": "9b7e29e1",
   "metadata": {},
   "outputs": [],
   "source": [
    "model_0 = Model_0(embedding_matrix).to(device)"
   ]
  },
  {
   "cell_type": "code",
   "execution_count": 32,
   "id": "e85006b3",
   "metadata": {},
   "outputs": [],
   "source": [
    "testing_embedding = model_0(torch.tensor(train_text_field.vocab.stoi[2]).to(device))"
   ]
  },
  {
   "cell_type": "code",
   "execution_count": 33,
   "id": "240cd0f0",
   "metadata": {},
   "outputs": [
    {
     "data": {
      "text/plain": [
       "torch.Size([300])"
      ]
     },
     "execution_count": 33,
     "metadata": {},
     "output_type": "execute_result"
    }
   ],
   "source": [
    "testing_embedding.shape"
   ]
  },
  {
   "cell_type": "code",
   "execution_count": 34,
   "id": "8b57b523",
   "metadata": {},
   "outputs": [
    {
     "data": {
      "text/plain": [
       "True"
      ]
     },
     "execution_count": 34,
     "metadata": {},
     "output_type": "execute_result"
    }
   ],
   "source": [
    "torch.equal(testing_embedding, embedding_matrix[train_text_field.vocab.stoi[2]].to(device))"
   ]
  },
  {
   "cell_type": "code",
   "execution_count": 35,
   "id": "3cf0a77c",
   "metadata": {},
   "outputs": [
    {
     "data": {
      "text/plain": [
       "defaultdict(<bound method Vocab._default_unk_index of <torchtext.vocab.Vocab object at 0x000001E5260BEE40>>,\n",
       "            {'<unk>': 0,\n",
       "             '<pad>': 1,\n",
       "             'the': 2,\n",
       "             ',': 3,\n",
       "             '.': 4,\n",
       "             'and': 5,\n",
       "             'a': 6,\n",
       "             'of': 7,\n",
       "             'to': 8,\n",
       "             'is': 9,\n",
       "             'it': 10,\n",
       "             'in': 11,\n",
       "             'i': 12,\n",
       "             'this': 13,\n",
       "             'that': 14,\n",
       "             '\"': 15,\n",
       "             \"'s\": 16,\n",
       "             '-': 17,\n",
       "             '/><br': 18,\n",
       "             'was': 19,\n",
       "             'as': 20,\n",
       "             'for': 21,\n",
       "             'with': 22,\n",
       "             'movie': 23,\n",
       "             'but': 24,\n",
       "             'film': 25,\n",
       "             'on': 26,\n",
       "             'you': 27,\n",
       "             '(': 28,\n",
       "             \"n't\": 29,\n",
       "             ')': 30,\n",
       "             'not': 31,\n",
       "             'he': 32,\n",
       "             'are': 33,\n",
       "             'his': 34,\n",
       "             'have': 35,\n",
       "             'be': 36,\n",
       "             'one': 37,\n",
       "             'at': 38,\n",
       "             'all': 39,\n",
       "             'they': 40,\n",
       "             'by': 41,\n",
       "             '!': 42,\n",
       "             'an': 43,\n",
       "             'who': 44,\n",
       "             'from': 45,\n",
       "             'like': 46,\n",
       "             'so': 47,\n",
       "             'her': 48,\n",
       "             'or': 49,\n",
       "             'there': 50,\n",
       "             'just': 51,\n",
       "             'about': 52,\n",
       "             'has': 53,\n",
       "             'do': 54,\n",
       "             \"'\": 55,\n",
       "             'out': 56,\n",
       "             'if': 57,\n",
       "             'some': 58,\n",
       "             'what': 59,\n",
       "             'good': 60,\n",
       "             '?': 61,\n",
       "             'very': 62,\n",
       "             'she': 63,\n",
       "             'more': 64,\n",
       "             'when': 65,\n",
       "             'would': 66,\n",
       "             'up': 67,\n",
       "             'even': 68,\n",
       "             'no': 69,\n",
       "             'time': 70,\n",
       "             'can': 71,\n",
       "             'my': 72,\n",
       "             'which': 73,\n",
       "             'only': 74,\n",
       "             'story': 75,\n",
       "             'really': 76,\n",
       "             'had': 77,\n",
       "             'their': 78,\n",
       "             'see': 79,\n",
       "             'were': 80,\n",
       "             'me': 81,\n",
       "             'did': 82,\n",
       "             'we': 83,\n",
       "             'does': 84,\n",
       "             'well': 85,\n",
       "             'than': 86,\n",
       "             '...': 87,\n",
       "             'much': 88,\n",
       "             'could': 89,\n",
       "             'get': 90,\n",
       "             'people': 91,\n",
       "             'been': 92,\n",
       "             'bad': 93,\n",
       "             'will': 94,\n",
       "             'into': 95,\n",
       "             'because': 96,\n",
       "             ':': 97,\n",
       "             'also': 98,\n",
       "             'other': 99,\n",
       "             'great': 100,\n",
       "             'first': 101,\n",
       "             'how': 102,\n",
       "             'him': 103,\n",
       "             'most': 104,\n",
       "             'made': 105,\n",
       "             'its': 106,\n",
       "             'make': 107,\n",
       "             'then': 108,\n",
       "             'way': 109,\n",
       "             'them': 110,\n",
       "             'too': 111,\n",
       "             'any': 112,\n",
       "             'movies': 113,\n",
       "             '<': 114,\n",
       "             'after': 115,\n",
       "             '/>the': 116,\n",
       "             'br': 117,\n",
       "             'think': 118,\n",
       "             'characters': 119,\n",
       "             'character': 120,\n",
       "             'watch': 121,\n",
       "             'two': 122,\n",
       "             'films': 123,\n",
       "             ';': 124,\n",
       "             'being': 125,\n",
       "             'many': 126,\n",
       "             'seen': 127,\n",
       "             'plot': 128,\n",
       "             'never': 129,\n",
       "             'life': 130,\n",
       "             'acting': 131,\n",
       "             'little': 132,\n",
       "             'where': 133,\n",
       "             'love': 134,\n",
       "             'best': 135,\n",
       "             'over': 136,\n",
       "             'show': 137,\n",
       "             'know': 138,\n",
       "             'ever': 139,\n",
       "             'off': 140,\n",
       "             'man': 141,\n",
       "             'better': 142,\n",
       "             'your': 143,\n",
       "             '*': 144,\n",
       "             'here': 145,\n",
       "             'still': 146,\n",
       "             'scene': 147,\n",
       "             'end': 148,\n",
       "             'say': 149,\n",
       "             'should': 150,\n",
       "             'these': 151,\n",
       "             'scenes': 152,\n",
       "             'why': 153,\n",
       "             'such': 154,\n",
       "             'while': 155,\n",
       "             'go': 156,\n",
       "             'something': 157,\n",
       "             'through': 158,\n",
       "             \"'ve\": 159,\n",
       "             'back': 160,\n",
       "             '/': 161,\n",
       "             'real': 162,\n",
       "             'those': 163,\n",
       "             'watching': 164,\n",
       "             'years': 165,\n",
       "             'actors': 166,\n",
       "             'though': 167,\n",
       "             \"'m\": 168,\n",
       "             'director': 169,\n",
       "             'thing': 170,\n",
       "             'old': 171,\n",
       "             'new': 172,\n",
       "             'before': 173,\n",
       "             'makes': 174,\n",
       "             'work': 175,\n",
       "             'nothing': 176,\n",
       "             'now': 177,\n",
       "             'actually': 178,\n",
       "             'funny': 179,\n",
       "             'find': 180,\n",
       "             'another': 181,\n",
       "             'look': 182,\n",
       "             'same': 183,\n",
       "             '--': 184,\n",
       "             'going': 185,\n",
       "             'few': 186,\n",
       "             'part': 187,\n",
       "             'lot': 188,\n",
       "             'every': 189,\n",
       "             'again': 190,\n",
       "             'world': 191,\n",
       "             '/>i': 192,\n",
       "             'cast': 193,\n",
       "             'want': 194,\n",
       "             'ca': 195,\n",
       "             'quite': 196,\n",
       "             '&': 197,\n",
       "             'us': 198,\n",
       "             'down': 199,\n",
       "             'got': 200,\n",
       "             'around': 201,\n",
       "             'young': 202,\n",
       "             \"'re\": 203,\n",
       "             'pretty': 204,\n",
       "             'seems': 205,\n",
       "             'things': 206,\n",
       "             'horror': 207,\n",
       "             'big': 208,\n",
       "             'take': 209,\n",
       "             'fact': 210,\n",
       "             'enough': 211,\n",
       "             'long': 212,\n",
       "             'between': 213,\n",
       "             'thought': 214,\n",
       "             'own': 215,\n",
       "             'both': 216,\n",
       "             'series': 217,\n",
       "             'action': 218,\n",
       "             'give': 219,\n",
       "             'may': 220,\n",
       "             'however': 221,\n",
       "             'must': 222,\n",
       "             'without': 223,\n",
       "             'right': 224,\n",
       "             'original': 225,\n",
       "             'always': 226,\n",
       "             'comedy': 227,\n",
       "             'gets': 228,\n",
       "             'point': 229,\n",
       "             'almost': 230,\n",
       "             'come': 231,\n",
       "             'times': 232,\n",
       "             'role': 233,\n",
       "             'saw': 234,\n",
       "             'least': 235,\n",
       "             'family': 236,\n",
       "             'whole': 237,\n",
       "             'interesting': 238,\n",
       "             'bit': 239,\n",
       "             'done': 240,\n",
       "             'making': 241,\n",
       "             'script': 242,\n",
       "             'music': 243,\n",
       "             'anything': 244,\n",
       "             'far': 245,\n",
       "             'last': 246,\n",
       "             'feel': 247,\n",
       "             'guy': 248,\n",
       "             'since': 249,\n",
       "             'minutes': 250,\n",
       "             'might': 251,\n",
       "             'performance': 252,\n",
       "             'probably': 253,\n",
       "             'am': 254,\n",
       "             'girl': 255,\n",
       "             'rather': 256,\n",
       "             'tv': 257,\n",
       "             'woman': 258,\n",
       "             'worst': 259,\n",
       "             'kind': 260,\n",
       "             'yet': 261,\n",
       "             \"'ll\": 262,\n",
       "             'away': 263,\n",
       "             'hard': 264,\n",
       "             'day': 265,\n",
       "             'sure': 266,\n",
       "             'fun': 267,\n",
       "             'found': 268,\n",
       "             'anyone': 269,\n",
       "             'each': 270,\n",
       "             'course': 271,\n",
       "             'comes': 272,\n",
       "             'played': 273,\n",
       "             'our': 274,\n",
       "             'believe': 275,\n",
       "             'especially': 276,\n",
       "             'looking': 277,\n",
       "             'trying': 278,\n",
       "             'set': 279,\n",
       "             'goes': 280,\n",
       "             'screen': 281,\n",
       "             'having': 282,\n",
       "             'actor': 283,\n",
       "             'although': 284,\n",
       "             'book': 285,\n",
       "             'put': 286,\n",
       "             'different': 287,\n",
       "             'looks': 288,\n",
       "             'money': 289,\n",
       "             'reason': 290,\n",
       "             'place': 291,\n",
       "             '/>this': 292,\n",
       "             'sense': 293,\n",
       "             'dvd': 294,\n",
       "             'shows': 295,\n",
       "             'once': 296,\n",
       "             'true': 297,\n",
       "             'ending': 298,\n",
       "             'job': 299,\n",
       "             'american': 300,\n",
       "             'watched': 301,\n",
       "             'everything': 302,\n",
       "             'maybe': 303,\n",
       "             'someone': 304,\n",
       "             'year': 305,\n",
       "             \"'d\": 306,\n",
       "             'plays': 307,\n",
       "             'three': 308,\n",
       "             'let': 309,\n",
       "             'worth': 310,\n",
       "             'effects': 311,\n",
       "             'main': 312,\n",
       "             'everyone': 313,\n",
       "             '10': 314,\n",
       "             'seem': 315,\n",
       "             'play': 316,\n",
       "             'takes': 317,\n",
       "             'together': 318,\n",
       "             'wife': 319,\n",
       "             '2': 320,\n",
       "             'night': 321,\n",
       "             'version': 322,\n",
       "             'john': 323,\n",
       "             'later': 324,\n",
       "             'special': 325,\n",
       "             'beautiful': 326,\n",
       "             'instead': 327,\n",
       "             'said': 328,\n",
       "             'during': 329,\n",
       "             'left': 330,\n",
       "             'high': 331,\n",
       "             'audience': 332,\n",
       "             'himself': 333,\n",
       "             'house': 334,\n",
       "             'half': 335,\n",
       "             'war': 336,\n",
       "             'excellent': 337,\n",
       "             'star': 338,\n",
       "             'seeing': 339,\n",
       "             'shot': 340,\n",
       "             'father': 341,\n",
       "             'idea': 342,\n",
       "             'black': 343,\n",
       "             'read': 344,\n",
       "             'mind': 345,\n",
       "             'else': 346,\n",
       "             'second': 347,\n",
       "             'nice': 348,\n",
       "             'less': 349,\n",
       "             'simply': 350,\n",
       "             'men': 351,\n",
       "             'fan': 352,\n",
       "             'used': 353,\n",
       "             'completely': 354,\n",
       "             'death': 355,\n",
       "             'help': 356,\n",
       "             'dead': 357,\n",
       "             'hollywood': 358,\n",
       "             'short': 359,\n",
       "             'line': 360,\n",
       "             'need': 361,\n",
       "             'home': 362,\n",
       "             'try': 363,\n",
       "             'women': 364,\n",
       "             'poor': 365,\n",
       "             'use': 366,\n",
       "             'until': 367,\n",
       "             'enjoy': 368,\n",
       "             'given': 369,\n",
       "             'low': 370,\n",
       "             'camera': 371,\n",
       "             'classic': 372,\n",
       "             'budget': 373,\n",
       "             'kids': 374,\n",
       "             'top': 375,\n",
       "             'rest': 376,\n",
       "             'production': 377,\n",
       "             'performances': 378,\n",
       "             'along': 379,\n",
       "             'full': 380,\n",
       "             'either': 381,\n",
       "             'wrong': 382,\n",
       "             'tell': 383,\n",
       "             'friends': 384,\n",
       "             'boring': 385,\n",
       "             'truly': 386,\n",
       "             'start': 387,\n",
       "             'video': 388,\n",
       "             '..': 389,\n",
       "             'remember': 390,\n",
       "             'came': 391,\n",
       "             'understand': 392,\n",
       "             'awful': 393,\n",
       "             'couple': 394,\n",
       "             'next': 395,\n",
       "             'stars': 396,\n",
       "             'stupid': 397,\n",
       "             '/>it': 398,\n",
       "             'wonderful': 399,\n",
       "             'terrible': 400,\n",
       "             'face': 401,\n",
       "             'sex': 402,\n",
       "             'mean': 403,\n",
       "             'recommend': 404,\n",
       "             'written': 405,\n",
       "             'episode': 406,\n",
       "             'playing': 407,\n",
       "             'getting': 408,\n",
       "             'moments': 409,\n",
       "             'small': 410,\n",
       "             'early': 411,\n",
       "             'school': 412,\n",
       "             'perhaps': 413,\n",
       "             'keep': 414,\n",
       "             'doing': 415,\n",
       "             'perfect': 416,\n",
       "             'often': 417,\n",
       "             'others': 418,\n",
       "             'person': 419,\n",
       "             'name': 420,\n",
       "             'human': 421,\n",
       "             'style': 422,\n",
       "             'gives': 423,\n",
       "             'become': 424,\n",
       "             'boy': 425,\n",
       "             'liked': 426,\n",
       "             'head': 427,\n",
       "             'definitely': 428,\n",
       "             'lost': 429,\n",
       "             'live': 430,\n",
       "             'dialogue': 431,\n",
       "             'itself': 432,\n",
       "             'felt': 433,\n",
       "             'case': 434,\n",
       "             'lines': 435,\n",
       "             'piece': 436,\n",
       "             'supposed': 437,\n",
       "             'mother': 438,\n",
       "             'white': 439,\n",
       "             'children': 440,\n",
       "             'went': 441,\n",
       "             'entire': 442,\n",
       "             'evil': 443,\n",
       "             'cinema': 444,\n",
       "             'against': 445,\n",
       "             'killer': 446,\n",
       "             'absolutely': 447,\n",
       "             'certainly': 448,\n",
       "             'sort': 449,\n",
       "             'picture': 450,\n",
       "             'waste': 451,\n",
       "             'called': 452,\n",
       "             'friend': 453,\n",
       "             'entertaining': 454,\n",
       "             'dark': 455,\n",
       "             'finally': 456,\n",
       "             'loved': 457,\n",
       "             'becomes': 458,\n",
       "             'several': 459,\n",
       "             'problem': 460,\n",
       "             'title': 461,\n",
       "             '3': 462,\n",
       "             'worse': 463,\n",
       "             'yes': 464,\n",
       "             'hope': 465,\n",
       "             'based': 466,\n",
       "             'already': 467,\n",
       "             'seemed': 468,\n",
       "             'under': 469,\n",
       "             'wanted': 470,\n",
       "             'care': 471,\n",
       "             'beginning': 472,\n",
       "             'example': 473,\n",
       "             'fans': 474,\n",
       "             '\\x96': 475,\n",
       "             'laugh': 476,\n",
       "             'drama': 477,\n",
       "             'child': 478,\n",
       "             'fine': 479,\n",
       "             'lives': 480,\n",
       "             'turn': 481,\n",
       "             'son': 482,\n",
       "             'direction': 483,\n",
       "             'totally': 484,\n",
       "             'sound': 485,\n",
       "             'behind': 486,\n",
       "             'humor': 487,\n",
       "             'wants': 488,\n",
       "             'oh': 489,\n",
       "             'history': 490,\n",
       "             'wo': 491,\n",
       "             'amazing': 492,\n",
       "             'enjoyed': 493,\n",
       "             'past': 494,\n",
       "             'quality': 495,\n",
       "             'michael': 496,\n",
       "             'heart': 497,\n",
       "             'lead': 498,\n",
       "             'final': 499,\n",
       "             'guys': 500,\n",
       "             'tries': 501,\n",
       "             'able': 502,\n",
       "             'writing': 503,\n",
       "             'close': 504,\n",
       "             'hand': 505,\n",
       "             'guess': 506,\n",
       "             'throughout': 507,\n",
       "             'art': 508,\n",
       "             'game': 509,\n",
       "             'unfortunately': 510,\n",
       "             'kill': 511,\n",
       "             'turns': 512,\n",
       "             '<br': 513,\n",
       "             '>': 514,\n",
       "             'side': 515,\n",
       "             'works': 516,\n",
       "             'car': 517,\n",
       "             'despite': 518,\n",
       "             'town': 519,\n",
       "             'viewer': 520,\n",
       "             'gave': 521,\n",
       "             'starts': 522,\n",
       "             'actress': 523,\n",
       "             'genre': 524,\n",
       "             'favorite': 525,\n",
       "             'horrible': 526,\n",
       "             'soon': 527,\n",
       "             'sometimes': 528,\n",
       "             'today': 529,\n",
       "             'parts': 530,\n",
       "             'run': 531,\n",
       "             'flick': 532,\n",
       "             '1': 533,\n",
       "             'days': 534,\n",
       "             'eyes': 535,\n",
       "             'kid': 536,\n",
       "             'act': 537,\n",
       "             'self': 538,\n",
       "             'brilliant': 539,\n",
       "             'girls': 540,\n",
       "             'hour': 541,\n",
       "             'directed': 542,\n",
       "             'fight': 543,\n",
       "             'city': 544,\n",
       "             'obviously': 545,\n",
       "             'late': 546,\n",
       "             'blood': 547,\n",
       "             'god': 548,\n",
       "             'stuff': 549,\n",
       "             'expect': 550,\n",
       "             '....': 551,\n",
       "             'voice': 552,\n",
       "             'themselves': 553,\n",
       "             'strong': 554,\n",
       "             'thinking': 555,\n",
       "             'stories': 556,\n",
       "             'writer': 557,\n",
       "             'myself': 558,\n",
       "             'etc': 559,\n",
       "             'decent': 560,\n",
       "             'heard': 561,\n",
       "             'took': 562,\n",
       "             'except': 563,\n",
       "             'says': 564,\n",
       "             'slow': 565,\n",
       "             'killed': 566,\n",
       "             'feeling': 567,\n",
       "             'police': 568,\n",
       "             'age': 569,\n",
       "             'stop': 570,\n",
       "             'type': 571,\n",
       "             'daughter': 572,\n",
       "             'highly': 573,\n",
       "             'mr.': 574,\n",
       "             'roles': 575,\n",
       "             'matter': 576,\n",
       "             'moment': 577,\n",
       "             'murder': 578,\n",
       "             'extremely': 579,\n",
       "             'violence': 580,\n",
       "             'leave': 581,\n",
       "             'brother': 582,\n",
       "             'happens': 583,\n",
       "             'including': 584,\n",
       "             'overall': 585,\n",
       "             'involved': 586,\n",
       "             'gore': 587,\n",
       "             'known': 588,\n",
       "             'lack': 589,\n",
       "             'coming': 590,\n",
       "             'hit': 591,\n",
       "             'wonder': 592,\n",
       "             'obvious': 593,\n",
       "             'happened': 594,\n",
       "             'hero': 595,\n",
       "             'attempt': 596,\n",
       "             'living': 597,\n",
       "             'particularly': 598,\n",
       "             'simple': 599,\n",
       "             'told': 600,\n",
       "             'chance': 601,\n",
       "             'james': 602,\n",
       "             'alone': 603,\n",
       "             'looked': 604,\n",
       "             'cut': 605,\n",
       "             'score': 606,\n",
       "             'group': 607,\n",
       "             'shown': 608,\n",
       "             'hell': 609,\n",
       "             'experience': 610,\n",
       "             'save': 611,\n",
       "             '/>there': 612,\n",
       "             'running': 613,\n",
       "             'husband': 614,\n",
       "             'david': 615,\n",
       "             'interest': 616,\n",
       "             'sad': 617,\n",
       "             'complete': 618,\n",
       "             'happen': 619,\n",
       "             'exactly': 620,\n",
       "             'english': 621,\n",
       "             'across': 622,\n",
       "             'annoying': 623,\n",
       "             'musical': 624,\n",
       "             'ago': 625,\n",
       "             'novel': 626,\n",
       "             'usually': 627,\n",
       "             'number': 628,\n",
       "             'somewhat': 629,\n",
       "             'none': 630,\n",
       "             'cinematography': 631,\n",
       "             'scary': 632,\n",
       "             'released': 633,\n",
       "             'change': 634,\n",
       "             'song': 635,\n",
       "             'possible': 636,\n",
       "             'hours': 637,\n",
       "             'serious': 638,\n",
       "             '/>in': 639,\n",
       "             'huge': 640,\n",
       "             'opening': 641,\n",
       "             'documentary': 642,\n",
       "             'ok': 643,\n",
       "             'whose': 644,\n",
       "             'talking': 645,\n",
       "             'light': 646,\n",
       "             'ends': 647,\n",
       "             'usual': 648,\n",
       "             'body': 649,\n",
       "             'happy': 650,\n",
       "             'king': 651,\n",
       "             'please': 652,\n",
       "             'relationship': 653,\n",
       "             'ridiculous': 654,\n",
       "             'crap': 655,\n",
       "             'opinion': 656,\n",
       "             'robert': 657,\n",
       "             'taken': 658,\n",
       "             'hilarious': 659,\n",
       "             'middle': 660,\n",
       "             'strange': 661,\n",
       "             'cool': 662,\n",
       "             'room': 663,\n",
       "             'started': 664,\n",
       "             'wish': 665,\n",
       "             'career': 666,\n",
       "             '/>if': 667,\n",
       "             'important': 668,\n",
       "             'episodes': 669,\n",
       "             'modern': 670,\n",
       "             'saying': 671,\n",
       "             'yourself': 672,\n",
       "             'finds': 673,\n",
       "             'jokes': 674,\n",
       "             'mostly': 675,\n",
       "             'turned': 676,\n",
       "             'word': 677,\n",
       "             'ones': 678,\n",
       "             'order': 679,\n",
       "             'shots': 680,\n",
       "             'level': 681,\n",
       "             'single': 682,\n",
       "             'reality': 683,\n",
       "             'five': 684,\n",
       "             'seriously': 685,\n",
       "             'comic': 686,\n",
       "             'female': 687,\n",
       "             'call': 688,\n",
       "             'major': 689,\n",
       "             'view': 690,\n",
       "             'power': 691,\n",
       "             'country': 692,\n",
       "             'taking': 693,\n",
       "             '4': 694,\n",
       "             'b': 695,\n",
       "             'due': 696,\n",
       "             'knew': 697,\n",
       "             '5': 698,\n",
       "             'jack': 699,\n",
       "             'tells': 700,\n",
       "             'thriller': 701,\n",
       "             'straight': 702,\n",
       "             'four': 703,\n",
       "             'knows': 704,\n",
       "             'anyway': 705,\n",
       "             'supporting': 706,\n",
       "             'talent': 707,\n",
       "             'songs': 708,\n",
       "             'events': 709,\n",
       "             'cheap': 710,\n",
       "             'class': 711,\n",
       "             'clearly': 712,\n",
       "             'non': 713,\n",
       "             'attention': 714,\n",
       "             'basically': 715,\n",
       "             'british': 716,\n",
       "             'fast': 717,\n",
       "             'local': 718,\n",
       "             'words': 719,\n",
       "             'future': 720,\n",
       "             'silly': 721,\n",
       "             'sequence': 722,\n",
       "             'apparently': 723,\n",
       "             'bring': 724,\n",
       "             'easily': 725,\n",
       "             'sets': 726,\n",
       "             'lady': 727,\n",
       "             'romantic': 728,\n",
       "             'earth': 729,\n",
       "             'giving': 730,\n",
       "             'problems': 731,\n",
       "             'paul': 732,\n",
       "             'moving': 733,\n",
       "             'talk': 734,\n",
       "             '/>but': 735,\n",
       "             'appears': 736,\n",
       "             'beyond': 737,\n",
       "             'miss': 738,\n",
       "             'upon': 739,\n",
       "             'entertainment': 740,\n",
       "             'needs': 741,\n",
       "             'television': 742,\n",
       "             'falls': 743,\n",
       "             'similar': 744,\n",
       "             'mystery': 745,\n",
       "             'review': 746,\n",
       "             'oscar': 747,\n",
       "             'disappointed': 748,\n",
       "             'whether': 749,\n",
       "             'nearly': 750,\n",
       "             'theater': 751,\n",
       "             'predictable': 752,\n",
       "             'ten': 753,\n",
       "             'it.<br': 754,\n",
       "             'feels': 755,\n",
       "             'near': 756,\n",
       "             'rating': 757,\n",
       "             'rock': 758,\n",
       "             'george': 759,\n",
       "             'mention': 760,\n",
       "             'york': 761,\n",
       "             'above': 762,\n",
       "             'animation': 763,\n",
       "             'eye': 764,\n",
       "             'fantastic': 765,\n",
       "             'release': 766,\n",
       "             'red': 767,\n",
       "             'hate': 768,\n",
       "             'sequel': 769,\n",
       "             'bunch': 770,\n",
       "             'enjoyable': 771,\n",
       "             'points': 772,\n",
       "             'within': 773,\n",
       "             're': 774,\n",
       "             'dull': 775,\n",
       "             'easy': 776,\n",
       "             'lee': 777,\n",
       "             'message': 778,\n",
       "             'named': 779,\n",
       "             'stand': 780,\n",
       "             'richard': 781,\n",
       "             'team': 782,\n",
       "             'using': 783,\n",
       "             'clear': 784,\n",
       "             'sister': 785,\n",
       "             'actual': 786,\n",
       "             'famous': 787,\n",
       "             'storyline': 788,\n",
       "             'showing': 789,\n",
       "             'working': 790,\n",
       "             'begins': 791,\n",
       "             'comments': 792,\n",
       "             '/>and': 793,\n",
       "             'die': 794,\n",
       "             'stay': 795,\n",
       "             'theme': 796,\n",
       "             'add': 797,\n",
       "             'typical': 798,\n",
       "             'viewers': 799,\n",
       "             'follow': 800,\n",
       "             'certain': 801,\n",
       "             'form': 802,\n",
       "             'minute': 803,\n",
       "             'surprised': 804,\n",
       "             'editing': 805,\n",
       "             'elements': 806,\n",
       "             'season': 807,\n",
       "             'ways': 808,\n",
       "             'space': 809,\n",
       "             'tried': 810,\n",
       "             'fall': 811,\n",
       "             'effort': 812,\n",
       "             'realistic': 813,\n",
       "             'weak': 814,\n",
       "             'among': 815,\n",
       "             'feature': 816,\n",
       "             'figure': 817,\n",
       "             'kept': 818,\n",
       "             'material': 819,\n",
       "             'herself': 820,\n",
       "             'leads': 821,\n",
       "             'lots': 822,\n",
       "             'brought': 823,\n",
       "             'french': 824,\n",
       "             'gone': 825,\n",
       "             'tale': 826,\n",
       "             'check': 827,\n",
       "             'de': 828,\n",
       "             'buy': 829,\n",
       "             'parents': 830,\n",
       "             'doubt': 831,\n",
       "             'movie.<br': 832,\n",
       "             'disney': 833,\n",
       "             'eventually': 834,\n",
       "             '/>a': 835,\n",
       "             'means': 836,\n",
       "             'deal': 837,\n",
       "             'poorly': 838,\n",
       "             'tom': 839,\n",
       "             'viewing': 840,\n",
       "             'greatest': 841,\n",
       "             'filmed': 842,\n",
       "             'general': 843,\n",
       "             'japanese': 844,\n",
       "             'sit': 845,\n",
       "             'suspense': 846,\n",
       "             'somehow': 847,\n",
       "             'soundtrack': 848,\n",
       "             'america': 849,\n",
       "             'crime': 850,\n",
       "             'dialog': 851,\n",
       "             'sequences': 852,\n",
       "             'peter': 853,\n",
       "             'sexual': 854,\n",
       "             'sorry': 855,\n",
       "             'stage': 856,\n",
       "             'wait': 857,\n",
       "             'imagine': 858,\n",
       "             'period': 859,\n",
       "             'atmosphere': 860,\n",
       "             'hear': 861,\n",
       "             'lame': 862,\n",
       "             'move': 863,\n",
       "             'difficult': 864,\n",
       "             'whatever': 865,\n",
       "             'dog': 866,\n",
       "             'learn': 867,\n",
       "             'average': 868,\n",
       "             'became': 869,\n",
       "             'particular': 870,\n",
       "             'zombie': 871,\n",
       "             'dance': 872,\n",
       "             'killing': 873,\n",
       "             'indeed': 874,\n",
       "             'possibly': 875,\n",
       "             'third': 876,\n",
       "             'premise': 877,\n",
       "             '$': 878,\n",
       "             'rent': 879,\n",
       "             'baby': 880,\n",
       "             'nature': 881,\n",
       "             'screenplay': 882,\n",
       "             'reading': 883,\n",
       "             '20': 884,\n",
       "             'avoid': 885,\n",
       "             'decided': 886,\n",
       "             'shame': 887,\n",
       "             'joe': 888,\n",
       "             'reviews': 889,\n",
       "             'street': 890,\n",
       "             'subject': 891,\n",
       "             'film.<br': 892,\n",
       "             'meets': 893,\n",
       "             'romance': 894,\n",
       "             'free': 895,\n",
       "             'surprise': 896,\n",
       "             '/>as': 897,\n",
       "             'expected': 898,\n",
       "             'forget': 899,\n",
       "             'leaves': 900,\n",
       "             'truth': 901,\n",
       "             'forward': 902,\n",
       "             'society': 903,\n",
       "             'begin': 904,\n",
       "             'earlier': 905,\n",
       "             'jane': 906,\n",
       "             'fi': 907,\n",
       "             'sci': 908,\n",
       "             'write': 909,\n",
       "             'needed': 910,\n",
       "             'hot': 911,\n",
       "             'realize': 912,\n",
       "             'question': 913,\n",
       "             'weird': 914,\n",
       "             'unless': 915,\n",
       "             'directors': 916,\n",
       "             'forced': 917,\n",
       "             'dramatic': 918,\n",
       "             'nor': 919,\n",
       "             'superb': 920,\n",
       "             'credits': 921,\n",
       "             'note': 922,\n",
       "             'total': 923,\n",
       "             'believable': 924,\n",
       "             'okay': 925,\n",
       "             'previous': 926,\n",
       "             'footage': 927,\n",
       "             'male': 928,\n",
       "             'situation': 929,\n",
       "             'crazy': 930,\n",
       "             'monster': 931,\n",
       "             'keeps': 932,\n",
       "             'meet': 933,\n",
       "             'whom': 934,\n",
       "             '`': 935,\n",
       "             'open': 936,\n",
       "             'acted': 937,\n",
       "             'badly': 938,\n",
       "             's': 939,\n",
       "             'comment': 940,\n",
       "             'creepy': 941,\n",
       "             'deep': 942,\n",
       "             'directing': 943,\n",
       "             'features': 944,\n",
       "             'mark': 945,\n",
       "             'plus': 946,\n",
       "             'ask': 947,\n",
       "             'otherwise': 948,\n",
       "             'dream': 949,\n",
       "             'emotional': 950,\n",
       "             'girlfriend': 951,\n",
       "             'older': 952,\n",
       "             'background': 953,\n",
       "             'casting': 954,\n",
       "             'effect': 955,\n",
       "             'plenty': 956,\n",
       "             'towards': 957,\n",
       "             'writers': 958,\n",
       "             'interested': 959,\n",
       "             'fire': 960,\n",
       "             'air': 961,\n",
       "             'fantasy': 962,\n",
       "             'laughs': 963,\n",
       "             'hardly': 964,\n",
       "             'personal': 965,\n",
       "             'return': 966,\n",
       "             'appear': 967,\n",
       "             'brings': 968,\n",
       "             'leading': 969,\n",
       "             'perfectly': 970,\n",
       "             'powerful': 971,\n",
       "             'quickly': 972,\n",
       "             'beauty': 973,\n",
       "             'setting': 974,\n",
       "             'battle': 975,\n",
       "             'cheesy': 976,\n",
       "             'imdb': 977,\n",
       "             'memorable': 978,\n",
       "             'sounds': 979,\n",
       "             'various': 980,\n",
       "             'admit': 981,\n",
       "             'box': 982,\n",
       "             'telling': 983,\n",
       "             'development': 984,\n",
       "             'present': 985,\n",
       "             'result': 986,\n",
       "             'rate': 987,\n",
       "             'unique': 988,\n",
       "             'create': 989,\n",
       "             'joke': 990,\n",
       "             'bill': 991,\n",
       "             'incredibly': 992,\n",
       "             'inside': 993,\n",
       "             'break': 994,\n",
       "             'cop': 995,\n",
       "             'fighting': 996,\n",
       "             'secret': 997,\n",
       "             'match': 998,\n",
       "             'potential': 999,\n",
       "             ...})"
      ]
     },
     "execution_count": 35,
     "metadata": {},
     "output_type": "execute_result"
    }
   ],
   "source": [
    "train_text_field.vocab.stoi"
   ]
  },
  {
   "cell_type": "code",
   "execution_count": 36,
   "id": "16b1650f",
   "metadata": {},
   "outputs": [
    {
     "name": "stdout",
     "output_type": "stream",
     "text": [
      "token='<unk>'\n",
      "Word index = 0\n",
      "Model Embedding= tensor([0., 0., 0., 0., 0.], device='cuda:0')\n",
      "Actual Embedding= tensor([0., 0., 0., 0., 0.], device='cuda:0')\n",
      "Embeddings are the same: True\n",
      "\n",
      "\n",
      "token='<pad>'\n",
      "Word index = 1\n",
      "Model Embedding= tensor([0., 0., 0., 0., 0.], device='cuda:0')\n",
      "Actual Embedding= tensor([0., 0., 0., 0., 0.], device='cuda:0')\n",
      "Embeddings are the same: True\n",
      "\n",
      "\n",
      "token='the'\n",
      "Word index = 2\n",
      "Model Embedding= tensor([ 0.2720, -0.0620, -0.1884,  0.0232, -0.0182], device='cuda:0')\n",
      "Actual Embedding= tensor([ 0.2720, -0.0620, -0.1884,  0.0232, -0.0182], device='cuda:0')\n",
      "Embeddings are the same: True\n",
      "\n",
      "\n",
      "token=','\n",
      "Word index = 3\n",
      "Model Embedding= tensor([-0.0828,  0.6720, -0.1499, -0.0650,  0.0565], device='cuda:0')\n",
      "Actual Embedding= tensor([-0.0828,  0.6720, -0.1499, -0.0650,  0.0565], device='cuda:0')\n",
      "Embeddings are the same: True\n",
      "\n",
      "\n",
      "token='.'\n",
      "Word index = 4\n",
      "Model Embedding= tensor([ 0.0120,  0.2075, -0.1258, -0.5932,  0.1252], device='cuda:0')\n",
      "Actual Embedding= tensor([ 0.0120,  0.2075, -0.1258, -0.5932,  0.1252], device='cuda:0')\n",
      "Embeddings are the same: True\n",
      "\n",
      "\n"
     ]
    }
   ],
   "source": [
    "#Check if embedding works for multiple words\n",
    "count = 0\n",
    "for index, token in enumerate(train_text_field.vocab.itos):\n",
    "    if(count ==5):\n",
    "        break\n",
    "\n",
    "    test_embedding = model_0(torch.tensor(train_text_field.vocab.stoi[token]).to(device))    \n",
    "    actual_embedding = torch.tensor(nlp.vocab[token].vector, device=device, dtype=torch.float)\n",
    "    print(f'{token=}')\n",
    "    print(f'Word index = {torch.tensor(train_text_field.vocab.stoi[token])}')\n",
    "    print(f'Model Embedding= {test_embedding[:5]}')\n",
    "    print(f'Actual Embedding= {actual_embedding[:5]}')\n",
    "    print(f'Embeddings are the same: {torch.equal(test_embedding, actual_embedding)}')\n",
    "\n",
    "    count+=1\n",
    "    print('\\n')\n"
   ]
  },
  {
   "cell_type": "markdown",
   "id": "850d9ad0",
   "metadata": {},
   "source": [
    "## Continuing Model_0"
   ]
  },
  {
   "cell_type": "markdown",
   "id": "42d5cf52",
   "metadata": {},
   "source": [
    "Now that I know that the embeddings are correct, I can add in packing to make computation more efficient"
   ]
  },
  {
   "cell_type": "code",
   "execution_count": 37,
   "id": "300f9c0a",
   "metadata": {},
   "outputs": [],
   "source": [
    "class Model_01(nn.Module):\n",
    "    def __init__(self, emb_matrix):\n",
    "        super().__init__()\n",
    "        #embed the index corresponding to the number\n",
    "        self.embedding = nn.Embedding.from_pretrained(embeddings=emb_matrix, freeze=True, padding_idx=1) #added padding_idx = 1 to not affect gradient\n",
    "        \n",
    "\n",
    "    def forward(self, input_indices, input_lengths):\n",
    "        word_embedding = self.embedding(input_indices)\n",
    "        #use pack_padded_sequence in order to make computation efficient\n",
    "        packed_embedding = nn.utils.rnn.pack_padded_sequence(enforce_sorted=False, input=word_embedding, lengths=input_lengths.cpu())\n",
    "        return word_embedding, packed_embedding"
   ]
  },
  {
   "cell_type": "code",
   "execution_count": 38,
   "id": "ac2eb95e",
   "metadata": {},
   "outputs": [
    {
     "data": {
      "text/plain": [
       "Model_01(\n",
       "  (embedding): Embedding(90636, 300, padding_idx=1)\n",
       ")"
      ]
     },
     "execution_count": 38,
     "metadata": {},
     "output_type": "execute_result"
    }
   ],
   "source": [
    "model_01 = Model_01(embedding_matrix).to(device)\n",
    "model_01"
   ]
  },
  {
   "cell_type": "code",
   "execution_count": 39,
   "id": "a5f664fc",
   "metadata": {},
   "outputs": [
    {
     "data": {
      "text/plain": [
       "(tensor([[  68,   65, 1842,  ...,  499,  115,  689],\n",
       "         [ 167,    2,    8,  ...,  606, 3503, 2670],\n",
       "         [  83,  716,  511,  ...,   87, 3681,   97],\n",
       "         ...,\n",
       "         [  36,    1,    1,  ...,    1,    1,    1],\n",
       "         [1077,    1,    1,  ...,    1,    1,    1],\n",
       "         [  42,    1,    1,  ...,    1,    1,    1]], device='cuda:0'),\n",
       " tensor([795, 791, 791, 790, 789, 786, 779, 775, 774, 773, 772, 772, 771, 770,\n",
       "         768, 766, 763, 761, 759, 757, 753, 752, 749, 749, 748, 748, 746, 745,\n",
       "         745, 745, 744, 744], device='cuda:0'))"
      ]
     },
     "execution_count": 39,
     "metadata": {},
     "output_type": "execute_result"
    }
   ],
   "source": [
    "first_batch_features,first_batch_lengths"
   ]
  },
  {
   "cell_type": "code",
   "execution_count": 40,
   "id": "d8571e88",
   "metadata": {},
   "outputs": [],
   "source": [
    "testing_embedding_01, testing_packed_embeddings_01 = model_01(first_batch_features.to(device), first_batch_lengths)"
   ]
  },
  {
   "cell_type": "markdown",
   "id": "ce5a5476",
   "metadata": {},
   "source": [
    "Good sign since 173*32 is bigger than 5494, so successfully removed padding tokens"
   ]
  },
  {
   "cell_type": "code",
   "execution_count": 41,
   "id": "b3080a59",
   "metadata": {},
   "outputs": [
    {
     "data": {
      "text/plain": [
       "(torch.Size([795, 32, 300]), torch.Size([24470, 300]))"
      ]
     },
     "execution_count": 41,
     "metadata": {},
     "output_type": "execute_result"
    }
   ],
   "source": [
    "testing_embedding_01.shape, testing_packed_embeddings_01.data.shape"
   ]
  },
  {
   "cell_type": "code",
   "execution_count": 42,
   "id": "123cc200",
   "metadata": {},
   "outputs": [
    {
     "name": "stdout",
     "output_type": "stream",
     "text": [
      "Original batch shape: torch.Size([795, 32])\n",
      "One padded sequence: tensor([ 1842,     8,   511,  7548,   105,     6,   239,     7,     6, 27394,\n",
      "           65,   101,   633,    11,  2792,    97,    27,    77,    15,   568,\n",
      "          255,    15,    11,     6,   233,    14,    19,  8110,    17,  2694,\n",
      "            3,    20,  6816, 61939,   273,     6,  3551,  3510,  5910,   277,\n",
      "           21,    60,   232,    11,    39,     2,   382, 26954,    28,     5,\n",
      "           50,    95,  1644, 19071,    30,     3,   946,  2359,  1370,    20,\n",
      "            6,   688,    17,   255,     3,   496,  2435,    20,  3826,  5793,\n",
      "           16,  3631,   172,   761,  3390,     3,     5,   211,  8107,  2604,\n",
      "            8,   246,   122,   113,     7,     2,   859,     4,   529,    10,\n",
      "           16,  1083,   349, 18115,    41,  1586,     5,   154,     3,   167,\n",
      "            2, 10571,   322,    53,    58,     7,     2,   104,    15,   911,\n",
      "           15,  1528,     7,   112,     7,   828,  4266,    16,   123,     3,\n",
      "           38,   235,    11,    34,  7524,    17,  8015,   859,     7,     2,\n",
      "         1951,     5,   411,  2065,     3,   133,    32,   468,     8,  3105,\n",
      "         1294,   136,     5,   136,     3,  1018,   658,   224,   140,     2,\n",
      "           25,    17, 10815,     7,  2356,  2246,     5,   369,     6, 17500,\n",
      "        22999,     4,    10,    16,     6,   599,   826,    14,    37,  3629,\n",
      "          467,   234,    11,  2401,     3,     5,   108,   190,     8,    43,\n",
      "         3098,    11,   649,  1407,     3,     5,    98,    11,  2476,    56,\n",
      "            4, 18992,  1370,   307,   688,    17,   255,  9436,  3944,     3,\n",
      "           44,    53,     8,   784,    48,   420,     7,  7397,     7,   873,\n",
      "         1828,    28,  8575,     3,    11,   380,  2679,    55, 35336,    55,\n",
      "         5614,    30,     3,   115,   125,   268,    22,     6,  6584,     3,\n",
      "            2,   578,  3167,    45,  1002,  7202,    16,  1128,    28,   496,\n",
      "         2435,     3,  1587,    17,  1037,   252,   104,     7,     2, 23037,\n",
      "           18,  3527,     2,   387,     3,    73,   828,  4266,   205,     8,\n",
      "           54,    20,     6,   109,     7,   974,    67,     6,  1790,   854,\n",
      "          962,   147,    20,     6,   109,     7, 18605,     2,   641,   147,\n",
      "            7,  3617,    28,    73,     3,   413,     3,    32,    84,    51,\n",
      "           11,   805,  1313,    30,     3,    83,    90,     6,   217,     7,\n",
      "         1801,  3381,    17,    56,   512,   158,     2,   229,     7,   690,\n",
      "            7,   422,   432,    97,     2,  5783,   680,    11,     2,  4710,\n",
      "            3,  1050,     8,  9514,    67,    64,     7,     6,  5066,    22,\n",
      "            2,  1778,   432,     3,     7,  1069,     5,  1762,     8,    36,\n",
      "         1503,     3,    86,   112,   260,     7,  1089,   124,     2,  1286,\n",
      "          158,     2,  7037,    28,     6, 13181,     8,  5439,    16,   109,\n",
      "           30,     9,   240,    22,     6,  7519,   681,     7,   846,     3,\n",
      "         2465,     3,    22,     6,  1083,  2343,   239,  1369,    11,    22,\n",
      "            2,   343,  1417,   124,     2,   120,     7,   853,     3,  1828,\n",
      "           16,   482,    28,  4560,  2199,    30,     3,    44,   307,    59,\n",
      "            9,  2030,     6,  1142,   322,     7,     2,   162,   130,   828,\n",
      "         4266,    20,     6,   536,    28,  1109,  7328,     3,  2302,    22,\n",
      "         2356,     5, 15086,    30,     4,     5,    10,    16,    39,   454,\n",
      "            5, 29312,    20,   609,    20,   157,    14,   272,   504,     8,\n",
      "            6,   162, 19754,     7,    59,   174,   828,  4266,    16,  3015,\n",
      "           47,   988,   155,   125,    47,   538,    17, 12046, 48066,    41,\n",
      "            6, 13515,  2148,     7,    25,    17, 10464,    18,  2561,     2,\n",
      "           99,   505,     3,    14,   183,   538,    17,  7587,  1039,    67,\n",
      "          590,   160,     8,  3972,     2,   169,    11,     2,  4013,     6,\n",
      "          186,   232,    11,  1145,   165,     3,     5,   847,    11,  1842,\n",
      "            8,   511,    10,   522,     8,   424,    62, 11701,     5,  1376,\n",
      "           20,     2,    75,    53,     8,  4786,   432,    67,     4,    20,\n",
      "            2,  2059,  1294,   231,   318,    68,    64,   723,    28,   141,\n",
      "           44,   488,     6,   402,    17,   634,     3,    84,    29,    68,\n",
      "          118,    32,    16,   873,    20,    10,     9,   144,    63,   144,\n",
      "           44,     9,   415,    10,    30,     3,    50,     9,    43, 29374,\n",
      "          147,    11,     2,   568,  1717,    14,   174,     2,  3456,  9399,\n",
      "           25,   182,    46,    43,  5512,  1975,  3311,     4,     5,     2,\n",
      "          499,   152,    38,   853,    16,   334,     3,    98,  2937,  2238,\n",
      "           95, 15647,     6,    88,    64,  3563,   722,    11,  3617,     3,\n",
      "           33,  1050,    21,     6,  7776,    14,    68,    21,   828,  4266,\n",
      "            9,  2193,    21,    10,   124,     2,   499,   340,   276,     3,\n",
      "         3200,     6,  1258,    16,   711,    11,   102,     8,  1065,   672,\n",
      "            4,   261,    50,     9,     6,    62,  5386,     5,     3,   773,\n",
      "          432,     3,   416,   147,    38,     2,  1728,  1606,  8914,    13,\n",
      "         1518,  8053,     3,   133,     2,  1031,    84,    58,   175,    26,\n",
      "            6,  3790,     3,     8,    73,    39,     2,    99,  6763,   537,\n",
      "           46,  1336,    11,     6, 10908,     3,     5,    43,   136,    17,\n",
      "          427,   340,   185,    67,     5,    67,   136,     2,   147,     9,\n",
      "           37,     7,     2,   135,   680,     7,   854,   161,   843, 10793,\n",
      "          139,  2054,    26,   892,    18,   835,   887,   108,    14,     2,\n",
      "           25,   647,    26,   154,     6,   661,     5,  4783,  1452,     3,\n",
      "          133,    67,   367,   108,    10,     9,     6,  1676,   436,     7,\n",
      "         4000,   444,     3,   133,   711,     9,    39,   201,    11,     2,\n",
      "         1801,  1440,    28,  1816,  1485,     3,  6764,   371,  3716,  1603,\n",
      "           47,   599,    30,  8914,   891,   576,    14,   150,    36,   268,\n",
      "           11,     2,  1515,     7, 45141,    21,  2856,  6405,     4,    10,\n",
      "           16,    69,  1033,     3,    24,    12,   306,   448,   209,    10,\n",
      "          136,   104,     7,     2,   169,    16,  1145,  3015,   112,   265,\n",
      "            4,     1,     1,     1,     1], device='cuda:0')\n",
      "Sum of true lengths: 24470\n",
      "Packed tensor shape: torch.Size([24470, 300])\n"
     ]
    }
   ],
   "source": [
    "# Take the original batch before packing\n",
    "print(\"Original batch shape:\", first_batch_features.shape)\n",
    "\n",
    "# See one sequence with padding included\n",
    "print(\"One padded sequence:\", first_batch_features[:, 2])\n",
    "\n",
    "# Now check the packed data length vs the sum of true lengths\n",
    "print(\"Sum of true lengths:\", first_batch_lengths.sum().item())\n",
    "print(\"Packed tensor shape:\", testing_packed_embeddings_01.data.shape)\n"
   ]
  },
  {
   "cell_type": "markdown",
   "id": "98bbcbef",
   "metadata": {},
   "source": [
    "Since sum of all the lengths and packed tensor are the same, I am confident that we removed the padding correctly"
   ]
  },
  {
   "cell_type": "markdown",
   "id": "88da0e54",
   "metadata": {},
   "source": [
    "## Adding in the LSTM and Classifier"
   ]
  },
  {
   "cell_type": "code",
   "execution_count": 43,
   "id": "b98ba903",
   "metadata": {},
   "outputs": [],
   "source": [
    "class Model_02(nn.Module):\n",
    "    def __init__(self, emb_matrix):\n",
    "        super().__init__()\n",
    "        #embed the index corresponding to the number\n",
    "        self.embedding = nn.Embedding.from_pretrained(embeddings=emb_matrix, freeze=True, padding_idx=1) #added padding_idx = 1 to not affect gradient\n",
    "\n",
    "        #feed batches into LSTM\n",
    "        self.forward_and_backward_LSTM = nn.LSTM(input_size=300, #embedding dimension\n",
    "                                    hidden_size=256, #hyperparameter \n",
    "                                    num_layers=1,\n",
    "                                    bidirectional=True,\n",
    "                                    batch_first=False\n",
    "                                    )\n",
    "\n",
    "        self.classifier = nn.Sequential(\n",
    "                                        nn.Linear(in_features=256*2*3, out_features=256*2*3),\n",
    "                                        nn.ReLU(),\n",
    "                                        nn.Dropout(),\n",
    "                                        nn.Linear(in_features=256*2*3, out_features=1)\n",
    "                                        )\n",
    "        \n",
    "        \n",
    "\n",
    "    def forward(self, input_indices, input_lengths):\n",
    "        word_embedding = self.embedding(input_indices)\n",
    "        #use pack_padded_sequence in order to make computation efficient\n",
    "        packed_embedding = nn.utils.rnn.pack_padded_sequence(enforce_sorted=False, input=word_embedding, lengths=input_lengths.cpu())\n",
    "\n",
    "        #pass through LSTM\n",
    "        packed_output, (hn, cn) = self.forward_and_backward_LSTM(packed_embedding) #(seq_len, batch, hidden_size*2)\n",
    "        \n",
    "        #concatenate foward and backward hidden states\n",
    "        h_final = torch.cat((hn[0], hn[1]), dim=1) # (batch_size, hidden_size*2)\n",
    "        #Max and mean pooling\n",
    "        unpacked_output, lengths = nn.utils.rnn.pad_packed_sequence(packed_output)\n",
    "        mean_pool = torch.mean(unpacked_output, dim=0)\n",
    "        max_pool, _ = torch.max(unpacked_output, dim=0)\n",
    "\n",
    "        #combine\n",
    "        features_pre_classification = torch.cat([h_final, mean_pool, max_pool], dim=1) #(batch_size, hidden_size*2*3)\n",
    "\n",
    "        res = self.classifier(features_pre_classification).squeeze(dim=1)\n",
    "\n",
    "        return res"
   ]
  },
  {
   "cell_type": "markdown",
   "id": "ae426a81",
   "metadata": {},
   "source": [
    "I decided to choose 256 as the hidden_size because of my embedding dimension being 300, dataset size, and the modern gpu I have"
   ]
  },
  {
   "cell_type": "code",
   "execution_count": 44,
   "id": "6465779c",
   "metadata": {},
   "outputs": [
    {
     "data": {
      "text/plain": [
       "Model_02(\n",
       "  (embedding): Embedding(90636, 300, padding_idx=1)\n",
       "  (forward_and_backward_LSTM): LSTM(300, 256, bidirectional=True)\n",
       "  (classifier): Sequential(\n",
       "    (0): Linear(in_features=1536, out_features=1536, bias=True)\n",
       "    (1): ReLU()\n",
       "    (2): Dropout(p=0.5, inplace=False)\n",
       "    (3): Linear(in_features=1536, out_features=1, bias=True)\n",
       "  )\n",
       ")"
      ]
     },
     "execution_count": 44,
     "metadata": {},
     "output_type": "execute_result"
    }
   ],
   "source": [
    "model_02 = Model_02(embedding_matrix).to(device)\n",
    "model_02"
   ]
  },
  {
   "cell_type": "code",
   "execution_count": 45,
   "id": "b360399e",
   "metadata": {},
   "outputs": [
    {
     "data": {
      "text/plain": [
       "torch.Size([32])"
      ]
     },
     "execution_count": 45,
     "metadata": {},
     "output_type": "execute_result"
    }
   ],
   "source": [
    "res = model_02(first_batch_features.to(device), first_batch_lengths)\n",
    "res.shape"
   ]
  },
  {
   "cell_type": "code",
   "execution_count": 46,
   "id": "0a1c7482",
   "metadata": {},
   "outputs": [
    {
     "data": {
      "text/plain": [
       "tensor([ 0.0197,  0.0672,  0.0541,  0.0442, -0.0464, -0.0012,  0.0327, -0.0128,\n",
       "         0.0606, -0.0469,  0.0381,  0.0420, -0.0302,  0.0644,  0.0244, -0.0136,\n",
       "         0.0288,  0.0178, -0.0125,  0.0570,  0.0241,  0.0277,  0.0644, -0.0129,\n",
       "         0.0474,  0.0699,  0.0243,  0.0085,  0.0193,  0.0146, -0.0040, -0.0197],\n",
       "       device='cuda:0', grad_fn=<SqueezeBackward1>)"
      ]
     },
     "execution_count": 46,
     "metadata": {},
     "output_type": "execute_result"
    }
   ],
   "source": [
    "res"
   ]
  },
  {
   "cell_type": "markdown",
   "id": "4e766948",
   "metadata": {},
   "source": [
    "# Training Model_0"
   ]
  },
  {
   "cell_type": "code",
   "execution_count": 47,
   "id": "43a23daa",
   "metadata": {},
   "outputs": [],
   "source": [
    "loss_fn = nn.BCEWithLogitsLoss()\n",
    "optimizer = torch.optim.SGD(params=model_02.parameters(),\n",
    "                            lr=0.05)"
   ]
  },
  {
   "cell_type": "code",
   "execution_count": 48,
   "id": "eaa67de3",
   "metadata": {},
   "outputs": [],
   "source": [
    "def accuracy_fn(y_true, y_pred):\n",
    "  correct = torch.eq(y_true, y_pred).sum().item() #torch.eq gets how many values are equal, them sum, them get only the item in the tensor\n",
    "  acc = (correct/len(y_pred))*100\n",
    "  return acc"
   ]
  },
  {
   "cell_type": "code",
   "execution_count": 49,
   "id": "f4882e1e",
   "metadata": {},
   "outputs": [
    {
     "data": {
      "text/plain": [
       "torch.Size([795, 32])"
      ]
     },
     "execution_count": 49,
     "metadata": {},
     "output_type": "execute_result"
    }
   ],
   "source": [
    "first_batch_features.shape"
   ]
  },
  {
   "cell_type": "code",
   "execution_count": 50,
   "id": "1de4722c",
   "metadata": {},
   "outputs": [
    {
     "data": {
      "application/vnd.jupyter.widget-view+json": {
       "model_id": "afdcec7e60954a9d9ed7897640465a7d",
       "version_major": 2,
       "version_minor": 0
      },
      "text/plain": [
       "  0%|          | 0/10 [00:00<?, ?it/s]"
      ]
     },
     "metadata": {},
     "output_type": "display_data"
    },
    {
     "name": "stdout",
     "output_type": "stream",
     "text": [
      "epoch=0\n",
      "\n",
      "looked at 0/20000 reviews\n",
      "looked at 4800/20000 reviews\n",
      "looked at 9600/20000 reviews\n",
      "looked at 14400/20000 reviews\n",
      "looked at 19200/20000 reviews\n",
      "\n",
      "Train loss: 0.6854192018508911 | Val  loss: 0.6652055382728577, Val  acc: 67.55573248407643\n",
      "\n",
      "epoch=1\n",
      "\n",
      "looked at 0/20000 reviews\n",
      "looked at 4800/20000 reviews\n",
      "looked at 9600/20000 reviews\n",
      "looked at 14400/20000 reviews\n",
      "looked at 19200/20000 reviews\n",
      "\n",
      "Train loss: 0.5732515454292297 | Val  loss: 0.4051523804664612, Val  acc: 83.71815286624204\n",
      "\n",
      "epoch=2\n",
      "\n",
      "looked at 0/20000 reviews\n",
      "looked at 4800/20000 reviews\n",
      "looked at 9600/20000 reviews\n",
      "looked at 14400/20000 reviews\n",
      "looked at 19200/20000 reviews\n",
      "\n",
      "Train loss: 0.4001657962799072 | Val  loss: 0.34051287174224854, Val  acc: 85.64888535031847\n",
      "\n",
      "epoch=3\n",
      "\n",
      "looked at 0/20000 reviews\n",
      "looked at 4800/20000 reviews\n",
      "looked at 9600/20000 reviews\n",
      "looked at 14400/20000 reviews\n",
      "looked at 19200/20000 reviews\n",
      "\n",
      "Train loss: 0.34262534976005554 | Val  loss: 0.3175690472126007, Val  acc: 86.76353503184713\n",
      "\n",
      "epoch=4\n",
      "\n",
      "looked at 0/20000 reviews\n",
      "looked at 4800/20000 reviews\n",
      "looked at 9600/20000 reviews\n",
      "looked at 14400/20000 reviews\n",
      "looked at 19200/20000 reviews\n",
      "\n",
      "Train loss: 0.3088511526584625 | Val  loss: 0.3214986026287079, Val  acc: 86.42515923566879\n",
      "\n",
      "epoch=5\n",
      "\n",
      "looked at 0/20000 reviews\n",
      "looked at 4800/20000 reviews\n",
      "looked at 9600/20000 reviews\n",
      "looked at 14400/20000 reviews\n",
      "looked at 19200/20000 reviews\n",
      "\n",
      "Train loss: 0.2853185832500458 | Val  loss: 0.2888723909854889, Val  acc: 87.99761146496816\n",
      "\n",
      "epoch=6\n",
      "\n",
      "looked at 0/20000 reviews\n",
      "looked at 4800/20000 reviews\n",
      "looked at 9600/20000 reviews\n",
      "looked at 14400/20000 reviews\n",
      "looked at 19200/20000 reviews\n",
      "\n",
      "Train loss: 0.2622428238391876 | Val  loss: 0.2862910032272339, Val  acc: 87.9578025477707\n",
      "\n",
      "epoch=7\n",
      "\n",
      "looked at 0/20000 reviews\n",
      "looked at 4800/20000 reviews\n",
      "looked at 9600/20000 reviews\n",
      "looked at 14400/20000 reviews\n",
      "looked at 19200/20000 reviews\n",
      "\n",
      "Train loss: 0.24051952362060547 | Val  loss: 0.35513216257095337, Val  acc: 85.27070063694268\n",
      "\n",
      "epoch=8\n",
      "\n",
      "looked at 0/20000 reviews\n",
      "looked at 4800/20000 reviews\n",
      "looked at 9600/20000 reviews\n",
      "looked at 14400/20000 reviews\n",
      "looked at 19200/20000 reviews\n",
      "\n",
      "Train loss: 0.2204219251871109 | Val  loss: 0.2905546724796295, Val  acc: 88.39570063694268\n",
      "\n",
      "epoch=9\n",
      "\n",
      "looked at 0/20000 reviews\n",
      "looked at 4800/20000 reviews\n",
      "looked at 9600/20000 reviews\n",
      "looked at 14400/20000 reviews\n",
      "looked at 19200/20000 reviews\n",
      "\n",
      "Train loss: 0.1972964107990265 | Val  loss: 0.27564698457717896, Val  acc: 88.63455414012739\n",
      "\n"
     ]
    }
   ],
   "source": [
    "from tqdm.auto import tqdm\n",
    "\n",
    "torch.manual_seed(26)\n",
    "\n",
    "epochs = 10\n",
    "train_loss_per_epoch = []\n",
    "valid_loss_per_epoch  = []\n",
    "valid_acc_per_epoch  = []\n",
    "\n",
    "for epoch in tqdm(range(epochs)):\n",
    "    print(f'{epoch=}\\n')\n",
    "\n",
    "    train_loss = 0\n",
    "    for batch_num, batch in enumerate(train_iter):\n",
    "        count = 0\n",
    "\n",
    "        train_batch_features, train_batch_lengths = batch.text\n",
    "        train_batch_labels = batch.label\n",
    "\n",
    "        model_02.train()\n",
    "\n",
    "        pred_labels = model_02(train_batch_features.to(device), train_batch_lengths)\n",
    "        \n",
    "        loss = loss_fn(pred_labels, train_batch_labels.float())\n",
    "\n",
    "        train_loss += loss\n",
    "\n",
    "        optimizer.zero_grad()\n",
    "        loss.backward()\n",
    "        optimizer.step()\n",
    "\n",
    "        if(batch_num%150==0):\n",
    "            print(f'looked at {batch_num*32}/{len(train_dataset)} reviews')\n",
    "\n",
    "    train_loss /= len(train_iter) \n",
    "    \n",
    "    valid_loss, valid_acc = 0,0 \n",
    "    model_02.eval()\n",
    "    with torch.inference_mode():\n",
    "        for valid_batch  in validation_iter:\n",
    "            valid_batch_features, valid_batch_lengths = valid_batch.text\n",
    "            valid_batch_labels  = valid_batch.label\n",
    "\n",
    "            valid_pred  = model_02(valid_batch_features.to(device), valid_batch_lengths)\n",
    "            valid_loss  += loss_fn(valid_pred, valid_batch_labels.float())\n",
    "            valid_acc  += accuracy_fn(y_true=valid_batch_labels.float(), y_pred=torch.round(torch.sigmoid(valid_pred)))\n",
    "\n",
    "        valid_loss  /= len(validation_iter)\n",
    "        valid_acc  /= len(validation_iter)\n",
    "\n",
    "        train_loss_per_epoch.append(train_loss)\n",
    "        valid_loss_per_epoch.append(valid_loss)\n",
    "        valid_acc_per_epoch.append(valid_acc)\n",
    "\n",
    "    print(f'\\nTrain loss: {train_loss} | Val  loss: {valid_loss}, Val  acc: {valid_acc}\\n')\n",
    "\n"
   ]
  },
  {
   "cell_type": "markdown",
   "id": "183922de",
   "metadata": {},
   "source": [
    "# Model_0 Metrics"
   ]
  },
  {
   "cell_type": "code",
   "execution_count": 51,
   "id": "25c72ad1",
   "metadata": {},
   "outputs": [
    {
     "data": {
      "image/png": "[encoded data removed]",
      "text/plain": [
       "<Figure size 1200x600 with 2 Axes>"
      ]
     },
     "metadata": {},
     "output_type": "display_data"
    }
   ],
   "source": [
    "epoch_list = [x for x in range(epochs)]\n",
    "\n",
    "plt.figure(figsize= (12,6))\n",
    "\n",
    "plt.subplot((121))\n",
    "plt.title('Train Loss and Test Loss per Epoch')\n",
    "plt.xlabel('Epoch')\n",
    "plt.ylabel('Loss')\n",
    "plt.plot(epoch_list, [x.item() for x in train_loss_per_epoch], label=\"Train Loss\")\n",
    "plt.plot(epoch_list, [x.item() for x in valid_loss_per_epoch], label=\"Test Loss\")\n",
    "plt.legend()  # show labels\n",
    "\n",
    "plt.subplot((122))\n",
    "plt.title('Test Accuracy per Epoch')\n",
    "plt.xlabel('Epoch')\n",
    "plt.ylabel('Accuracy')\n",
    "plt.plot(epoch_list, valid_acc_per_epoch)\n",
    "\n",
    "plt.show()"
   ]
  },
  {
   "cell_type": "code",
   "execution_count": 52,
   "id": "0f0e9fb4",
   "metadata": {},
   "outputs": [
    {
     "data": {
      "text/plain": [
       "'0.23.4'"
      ]
     },
     "execution_count": 52,
     "metadata": {},
     "output_type": "execute_result"
    }
   ],
   "source": [
    "import mlxtend, torchmetrics\n",
    "\n",
    "mlxtend.__version__"
   ]
  },
  {
   "cell_type": "code",
   "execution_count": 53,
   "id": "3d2abcbb",
   "metadata": {},
   "outputs": [
    {
     "data": {
      "application/vnd.jupyter.widget-view+json": {
       "model_id": "b6f9153e6b26401fad0013ef059c76ad",
       "version_major": 2,
       "version_minor": 0
      },
      "text/plain": [
       "Making predictions...:   0%|          | 0/782 [00:00<?, ?it/s]"
      ]
     },
     "metadata": {},
     "output_type": "display_data"
    }
   ],
   "source": [
    "from tqdm.auto import tqdm\n",
    "\n",
    "#1. make predictions\n",
    "y_preds = []\n",
    "y_trues=[]\n",
    "y_probs = []\n",
    "model_02.eval()\n",
    "wrong_count = 0\n",
    "\n",
    "with torch.inference_mode():\n",
    "  for inference_batch in tqdm(test_iter, desc='Making predictions...'#desciption\n",
    "                  ):\n",
    "    inference_batch_features, inference_batch_lengths = inference_batch.text\n",
    "    inference_batch_labels = inference_batch.label\n",
    "\n",
    "\n",
    "    y_logit = model_02(inference_batch_features, inference_batch_lengths)\n",
    "    y_prob = torch.sigmoid(y_logit)\n",
    "    y_pred = torch.round(y_prob)\n",
    "\n",
    "    wrong_count += (y_pred.cpu() != inference_batch_labels.cpu()).sum().item()\n",
    "\n",
    "    y_probs.append(y_prob.cpu())\n",
    "    y_preds.append(y_pred.cpu())\n",
    "    y_trues.append(inference_batch_labels.cpu())\n",
    "\n",
    "  # print(y_preds)\n",
    "  y_pred_tensor = torch.cat(y_preds)\n",
    "  y_true_tensor = torch.cat(y_trues)\n",
    "  y_prob_tensor = torch.cat(y_probs)  # shape [25000]"
   ]
  },
  {
   "cell_type": "code",
   "execution_count": 54,
   "id": "a844d113",
   "metadata": {},
   "outputs": [
    {
     "name": "stdout",
     "output_type": "stream",
     "text": [
      "Total wrong predictions: 2628 out of 25000\n"
     ]
    }
   ],
   "source": [
    "print(f\"Total wrong predictions: {wrong_count} out of {len(y_true_tensor)}\")"
   ]
  },
  {
   "cell_type": "code",
   "execution_count": 55,
   "id": "cf6eba8e",
   "metadata": {},
   "outputs": [
    {
     "name": "stdout",
     "output_type": "stream",
     "text": [
      "['neg', 'pos']\n"
     ]
    }
   ],
   "source": [
    "print(train_label_field.vocab.itos)"
   ]
  },
  {
   "cell_type": "code",
   "execution_count": 56,
   "id": "c80d6641",
   "metadata": {},
   "outputs": [
    {
     "data": {
      "image/png": "[encoded data removed]",
      "text/plain": [
       "<Figure size 1000x700 with 1 Axes>"
      ]
     },
     "metadata": {},
     "output_type": "display_data"
    }
   ],
   "source": [
    "from torchmetrics import ConfusionMatrix\n",
    "from mlxtend.plotting import plot_confusion_matrix\n",
    "\n",
    "confmat = ConfusionMatrix(num_classes = 2, task='binary')\n",
    "confmat_tensor = confmat(\n",
    "    preds = y_pred_tensor,\n",
    "    target= y_true_tensor\n",
    ")\n",
    "fig, ax = plot_confusion_matrix(conf_mat = confmat_tensor.numpy(),\n",
    "                                class_names = train_label_field.vocab.itos,\n",
    "                                figsize = (10,7))"
   ]
  },
  {
   "cell_type": "code",
   "execution_count": 57,
   "id": "6b417da3",
   "metadata": {},
   "outputs": [
    {
     "data": {
      "image/png": "[encoded data removed]",
      "text/plain": [
       "<Figure size 640x480 with 1 Axes>"
      ]
     },
     "metadata": {},
     "output_type": "display_data"
    },
    {
     "data": {
      "image/png": "[encoded data removed]",
      "text/plain": [
       "<Figure size 640x480 with 1 Axes>"
      ]
     },
     "metadata": {},
     "output_type": "display_data"
    }
   ],
   "source": [
    "from sklearn.metrics import roc_curve, auc, precision_recall_curve\n",
    "import matplotlib.pyplot as plt\n",
    "\n",
    "# convert to numpy for sklearn\n",
    "y_probs_np = y_prob_tensor.numpy()\n",
    "y_true_np = y_true_tensor.numpy()\n",
    "\n",
    "# ROC curve\n",
    "fpr, tpr, thresholds = roc_curve(y_true_np, y_probs_np)\n",
    "roc_auc = auc(fpr, tpr)\n",
    "\n",
    "plt.figure()\n",
    "plt.plot(fpr, tpr, label=f\"ROC curve (AUC = {roc_auc:.2f})\")\n",
    "plt.plot([0, 1], [0, 1], \"k--\")\n",
    "plt.xlabel(\"False Positive Rate\")\n",
    "plt.ylabel(\"True Positive Rate\")\n",
    "plt.title(\"ROC Curve\")\n",
    "plt.legend(loc=\"lower right\")\n",
    "plt.show()\n",
    "\n",
    "# Precision-Recall curve\n",
    "precision, recall, thresholds = precision_recall_curve(y_true_np, y_probs_np)\n",
    "plt.figure()\n",
    "plt.plot(recall, precision, label=\"PR curve\")\n",
    "plt.xlabel(\"Recall\")\n",
    "plt.ylabel(\"Precision\")\n",
    "plt.title(\"Precision-Recall Curve\")\n",
    "plt.legend(loc=\"lower left\")\n",
    "plt.show()\n"
   ]
  },
  {
   "cell_type": "markdown",
   "id": "547d5df4",
   "metadata": {},
   "source": [
    "# Functionizing Training and Inference"
   ]
  },
  {
   "cell_type": "code",
   "execution_count": 58,
   "id": "2629f1bc",
   "metadata": {},
   "outputs": [],
   "source": [
    "def train_step(model:torch.nn.Module,\n",
    "               data_iter: torchtext.data.BucketIterator,\n",
    "               loss_fn: torch.nn.Module,\n",
    "               optimizer: torch.optim.Optimizer,\n",
    "               accuracy_fn,\n",
    "               train_loss_per_epoch,\n",
    "               device: torch.device = device\n",
    "           ):\n",
    "    train_loss, train_acc = 0,0\n",
    "    model.train()\n",
    "\n",
    "    for batch_num, batch in enumerate(data_iter):\n",
    "\n",
    "        train_batch_features, train_batch_lengths = batch.text\n",
    "        train_batch_labels = batch.label\n",
    "\n",
    "        pred_labels = model(train_batch_features.to(device), train_batch_lengths)\n",
    "\n",
    "        loss = loss_fn(pred_labels, train_batch_labels.float())\n",
    "        train_loss += loss\n",
    "        train_acc +=accuracy_fn(y_true=train_batch_labels.float(), y_pred=torch.round(torch.sigmoid(pred_labels)))\n",
    "\n",
    "        optimizer.zero_grad()\n",
    "        loss.backward()\n",
    "        optimizer.step()\n",
    "\n",
    "\n",
    "    train_loss /= len(data_iter) \n",
    "    train_acc /= len(data_iter)\n",
    "\n",
    "    train_loss_per_epoch.append(train_loss)\n",
    "    print(f'Train loss: {train_loss} | train acc: {train_acc}')"
   ]
  },
  {
   "cell_type": "code",
   "execution_count": 59,
   "id": "beb4f5a6",
   "metadata": {},
   "outputs": [],
   "source": [
    "def valid_step(model:torch.nn.Module,\n",
    "               data_iter: torchtext.data.BucketIterator,\n",
    "               loss_fn: torch.nn.Module,\n",
    "               accuracy_fn,\n",
    "               valid_loss_per_epoch,\n",
    "               valid_acc_per_epoch,\n",
    "               device: torch.device = device\n",
    "           ):\n",
    "    valid_loss, valid_acc = 0,0\n",
    "    model.eval()\n",
    "\n",
    "    with torch.inference_mode():\n",
    "        for valid_batch in data_iter:\n",
    "\n",
    "            valid_batch_features, valid_batch_lengths = valid_batch.text\n",
    "            valid_batch_labels = valid_batch.label\n",
    "\n",
    "            valid_pred = model(valid_batch_features.to(device), valid_batch_lengths)\n",
    "            valid_loss += loss_fn(valid_pred, valid_batch_labels.float())\n",
    "            valid_acc += accuracy_fn(y_true=valid_batch_labels.float(), y_pred=torch.round(torch.sigmoid(valid_pred)))\n",
    "\n",
    "        valid_loss /= len(data_iter)\n",
    "        valid_acc /= len(data_iter)\n",
    "\n",
    "        valid_loss_per_epoch.append(valid_loss)\n",
    "        valid_acc_per_epoch.append(valid_acc)\n",
    "        print(f'valid loss: {valid_loss} | valid acc: {valid_acc}\\n-----')\n",
    "\n",
    "\n",
    "        return valid_loss.item()\n"
   ]
  },
  {
   "cell_type": "code",
   "execution_count": 171,
   "id": "e013021e",
   "metadata": {},
   "outputs": [],
   "source": [
    "def inference_mode(model:torch.nn.Module,\n",
    "               data_iter: torchtext.data.BucketIterator,\n",
    "               device: torch.device = device):\n",
    "    y_preds=[]\n",
    "    y_trues=[]\n",
    "    y_probs=[]\n",
    "    model.eval()\n",
    "\n",
    "    with torch.inference_mode():\n",
    "        for inference_batch in tqdm(data_iter, desc='Making predictions...'#desciption\n",
    "                        ):\n",
    "            inference_batch_features, inference_batch_lengths = inference_batch.text\n",
    "            inference_batch_labels = inference_batch.label\n",
    "\n",
    "\n",
    "            y_logit = model(inference_batch_features, inference_batch_lengths)\n",
    "            y_prob = torch.sigmoid(y_logit)\n",
    "            y_pred = torch.round(y_prob)\n",
    "\n",
    "            y_probs.append(y_prob.cpu())\n",
    "            y_preds.append(y_pred.cpu())\n",
    "            y_trues.append(inference_batch_labels.cpu())\n",
    "\n",
    "        # print(y_preds)\n",
    "        y_pred_tensor = torch.cat(y_preds).long()\n",
    "        y_true_tensor = torch.cat(y_trues).float()\n",
    "        y_prob_tensor = torch.cat(y_probs).float()  # shape [25000]\n",
    "\n",
    "        correct = (y_pred_tensor == y_true_tensor).sum().item()\n",
    "        total = y_true_tensor.size(0)\n",
    "\n",
    "        print(f\"Correct predictions: {correct}/{total} ({correct/total:.2%})\")\n",
    "\n",
    "        return y_pred_tensor, y_true_tensor, y_prob_tensor"
   ]
  },
  {
   "cell_type": "code",
   "execution_count": 182,
   "id": "8dc24026",
   "metadata": {},
   "outputs": [],
   "source": [
    "# --- Function 1: Epoch-based curves ---\n",
    "def plot_epoch_metrics(epoch_list, train_loss_per_epoch, valid_loss_per_epoch, valid_acc_per_epoch):\n",
    "    fig, axes = plt.subplots(1, 2, figsize=(12, 5))\n",
    "\n",
    "    # Loss curves\n",
    "    axes[0].plot(epoch_list, [x.item() for x in train_loss_per_epoch], label=\"Train Loss\")\n",
    "    axes[0].plot(epoch_list, [x.item() for x in valid_loss_per_epoch], label=\"Validation Loss\")\n",
    "    axes[0].set_title(\"Train/Validation Loss per Epoch\")\n",
    "    axes[0].set_xlabel(\"Epoch\")\n",
    "    axes[0].set_ylabel(\"Loss\")\n",
    "    axes[0].legend()\n",
    "\n",
    "    # Accuracy curve\n",
    "    axes[1].plot(epoch_list, valid_acc_per_epoch, label=\"Validation Accuracy\", color=\"green\")\n",
    "    axes[1].set_title(\"Validation Accuracy per Epoch\")\n",
    "    axes[1].set_xlabel(\"Epoch\")\n",
    "    axes[1].set_ylabel(\"Accuracy\")\n",
    "    axes[1].legend()\n",
    "\n",
    "    plt.tight_layout()\n",
    "    plt.show()\n",
    "\n",
    "\n",
    "# --- Function 2: Inference-based metrics ---\n",
    "def plot_inference_metrics(t_tensor, pred_tensor, prob_tensor, class_names):\n",
    "    # --- Confusion Matrix ---\n",
    "    confmat = ConfusionMatrix(num_classes=2, task=\"binary\")\n",
    "    confmat_tensor = confmat(preds=pred_tensor, target=t_tensor)\n",
    "\n",
    "    fig, ax = plot_confusion_matrix(\n",
    "        conf_mat=confmat_tensor.numpy(),\n",
    "        class_names=class_names,\n",
    "        figsize=(6,5)\n",
    "    )\n",
    "    plt.title(\"Confusion Matrix\")\n",
    "    plt.show()\n",
    "\n",
    "    # --- ROC + Precision-Recall in one figure ---\n",
    "    probs_np = prob_tensor.numpy()\n",
    "    t_np = t_tensor.numpy()\n",
    "\n",
    "    fpr, tpr, _ = roc_curve(t_np, probs_np)\n",
    "    roc_auc = auc(fpr, tpr)\n",
    "\n",
    "    precision, recall, _ = precision_recall_curve(t_np, probs_np)\n",
    "\n",
    "    fig, axes = plt.subplots(1, 2, figsize=(12,5))\n",
    "\n",
    "    # ROC curve\n",
    "    axes[0].plot(fpr, tpr, label=f\"ROC curve (AUC = {roc_auc:.2f})\")\n",
    "    axes[0].plot([0, 1], [0, 1], \"k--\")\n",
    "    axes[0].set_xlabel(\"False Positive Rate\")\n",
    "    axes[0].set_ylabel(\"True Positive Rate\")\n",
    "    axes[0].set_title(\"ROC Curve\")\n",
    "    axes[0].legend()\n",
    "\n",
    "    # Precision-Recall curve\n",
    "    axes[1].plot(recall, precision, label=\"PR curve\")\n",
    "    axes[1].set_xlabel(\"Recall\")\n",
    "    axes[1].set_ylabel(\"Precision\")\n",
    "    axes[1].set_title(\"Precision-Recall Curve\")\n",
    "    axes[1].legend(loc=\"lower left\")\n",
    "\n",
    "    plt.tight_layout()\n",
    "    plt.show()\n",
    "\n"
   ]
  },
  {
   "cell_type": "markdown",
   "id": "5bc92259",
   "metadata": {},
   "source": [
    "# Upgrading Model_0"
   ]
  },
  {
   "cell_type": "markdown",
   "id": "4a1da3a7",
   "metadata": {},
   "source": [
    "Here I will try to improve the model with increasing number of bi-lstm layers, adding some dropout, and making hidden_size easy to change"
   ]
  },
  {
   "cell_type": "code",
   "execution_count": 62,
   "id": "82a2e4ff",
   "metadata": {},
   "outputs": [],
   "source": [
    "class Model_03(nn.Module):\n",
    "    def __init__(self, emb_matrix, hidden_size):\n",
    "        super().__init__()\n",
    "        #embed the index corresponding to the number\n",
    "        self.embedding = nn.Embedding.from_pretrained(embeddings=emb_matrix, freeze=True, padding_idx=1) #added padding_idx = 1 to not affect gradient\n",
    "\n",
    "        #feed batches into LSTM\n",
    "        self.forward_and_backward_LSTM = nn.LSTM(input_size=300, #embedding dimension\n",
    "                                    hidden_size=hidden_size, #hyperparameter \n",
    "                                    num_layers=2,\n",
    "                                    bidirectional=True,\n",
    "                                    batch_first=False,\n",
    "                                    dropout=.5\n",
    "                                    )\n",
    "\n",
    "        self.classifier = nn.Sequential(\n",
    "                                        # nn.Linear(in_features=hidden_size*2*3, out_features=hidden_size*2*3),\n",
    "                                        nn.Linear(in_features=hidden_size*2*3, out_features=hidden_size*2*3),\n",
    "                                        nn.ReLU(),\n",
    "                                        nn.Dropout(),\n",
    "                                        # nn.Linear(in_features=hidden_size*2*3, out_features=1)\n",
    "                                        nn.Linear(in_features=hidden_size*2*3, out_features=1)\n",
    "                                        )\n",
    "        \n",
    "        \n",
    "\n",
    "    def forward(self, input_indices, input_lengths):\n",
    "        word_embedding = self.embedding(input_indices)\n",
    "        #use pack_padded_sequence in order to make computation efficient\n",
    "        packed_embedding = nn.utils.rnn.pack_padded_sequence(enforce_sorted=False, input=word_embedding, lengths=input_lengths.cpu())\n",
    "\n",
    "        #pass through LSTM\n",
    "        packed_output, (hn, cn) = self.forward_and_backward_LSTM(packed_embedding) #(seq_len, batch, hidden_size*2)\n",
    "        \n",
    "        #concatenate foward and backward hidden states\n",
    "        h_final = torch.cat((hn[0], hn[1]), dim=1) # (batch_size, hidden_size*2)\n",
    "        #Max and mean pooling\n",
    "        unpacked_output, lengths = nn.utils.rnn.pad_packed_sequence(packed_output)\n",
    "        mean_pool = torch.mean(unpacked_output, dim=0)\n",
    "        max_pool, _ = torch.max(unpacked_output, dim=0)\n",
    "\n",
    "        #combine\n",
    "        features_pre_classification = torch.cat([h_final, mean_pool, max_pool], dim=1) #(batch_size, hidden_size*2*3)\n",
    "\n",
    "        res = self.classifier(features_pre_classification).squeeze(dim=1)\n",
    "\n",
    "        return res"
   ]
  },
  {
   "cell_type": "code",
   "execution_count": 63,
   "id": "840c1a5e",
   "metadata": {},
   "outputs": [],
   "source": [
    "model_03 = Model_03(embedding_matrix, hidden_size=256).to(device)"
   ]
  },
  {
   "cell_type": "code",
   "execution_count": 64,
   "id": "051cb561",
   "metadata": {},
   "outputs": [],
   "source": [
    "loss_fn = nn.BCEWithLogitsLoss()\n",
    "optimizer = torch.optim.SGD(params=model_03.parameters(),\n",
    "                            lr=0.05)\n",
    "train_loss_per_epoch_03 = []\n",
    "valid_loss_per_epoch_03 = []\n",
    "valid_acc_per_epoch_03 = []"
   ]
  },
  {
   "cell_type": "code",
   "execution_count": 65,
   "id": "bd9109d0",
   "metadata": {},
   "outputs": [
    {
     "data": {
      "application/vnd.jupyter.widget-view+json": {
       "model_id": "a34718d1e06d47eab3060f7b83943bf9",
       "version_major": 2,
       "version_minor": 0
      },
      "text/plain": [
       "  0%|          | 0/17 [00:00<?, ?it/s]"
      ]
     },
     "metadata": {},
     "output_type": "display_data"
    },
    {
     "name": "stdout",
     "output_type": "stream",
     "text": [
      "epoch: 0\n",
      "Train loss: 0.6896017789840698 | train acc: 54.39\n",
      "valid loss: 0.6829383969306946 | valid acc: 58.47929936305732\n",
      "-----\n",
      "epoch: 1\n",
      "Train loss: 0.6576758027076721 | train acc: 62.68\n",
      "valid loss: 0.5877950191497803 | valid acc: 72.7109872611465\n",
      "-----\n",
      "epoch: 2\n",
      "Train loss: 0.5655825734138489 | train acc: 70.575\n",
      "valid loss: 0.5547212362289429 | valid acc: 70.16321656050955\n",
      "-----\n",
      "epoch: 3\n",
      "Train loss: 0.49048054218292236 | train acc: 76.35\n",
      "valid loss: 0.4603947103023529 | valid acc: 77.98566878980891\n",
      "-----\n",
      "epoch: 4\n",
      "Train loss: 0.4124377965927124 | train acc: 81.365\n",
      "valid loss: 0.35242030024528503 | valid acc: 84.97213375796179\n",
      "-----\n",
      "epoch: 5\n",
      "Train loss: 0.36269333958625793 | train acc: 84.24\n",
      "valid loss: 0.3742496073246002 | valid acc: 82.76273885350318\n",
      "-----\n",
      "epoch: 6\n",
      "Train loss: 0.3322966992855072 | train acc: 85.845\n",
      "valid loss: 0.3455345630645752 | valid acc: 84.47452229299363\n",
      "-----\n",
      "epoch: 7\n",
      "Train loss: 0.31732285022735596 | train acc: 86.68\n",
      "valid loss: 0.34969985485076904 | valid acc: 84.45461783439491\n",
      "-----\n",
      "epoch: 8\n",
      "Train loss: 0.3060093820095062 | train acc: 87.26\n",
      "valid loss: 0.31269457936286926 | valid acc: 86.8232484076433\n",
      "-----\n",
      "epoch: 9\n",
      "Train loss: 0.292843759059906 | train acc: 87.92\n",
      "valid loss: 0.30183473229408264 | valid acc: 87.24124203821655\n",
      "-----\n",
      "epoch: 10\n",
      "Train loss: 0.2834559679031372 | train acc: 88.17\n",
      "valid loss: 0.3077561855316162 | valid acc: 86.9625796178344\n",
      "-----\n",
      "epoch: 11\n",
      "Train loss: 0.27481067180633545 | train acc: 88.655\n",
      "valid loss: 0.28575649857521057 | valid acc: 88.1767515923567\n",
      "-----\n",
      "epoch: 12\n",
      "Train loss: 0.2752208709716797 | train acc: 88.695\n",
      "valid loss: 0.30403509736061096 | valid acc: 87.00238853503184\n",
      "-----\n",
      "epoch: 13\n",
      "Train loss: 0.2595897614955902 | train acc: 89.41\n",
      "valid loss: 0.27930334210395813 | valid acc: 88.69426751592357\n",
      "-----\n",
      "epoch: 14\n",
      "Train loss: 0.2532162368297577 | train acc: 89.5\n",
      "valid loss: 0.2852464020252228 | valid acc: 88.4156050955414\n",
      "-----\n",
      "epoch: 15\n",
      "Train loss: 0.24536193907260895 | train acc: 90.05\n",
      "valid loss: 0.27650946378707886 | valid acc: 88.69426751592357\n",
      "-----\n",
      "epoch: 16\n",
      "Train loss: 0.23885343968868256 | train acc: 90.155\n",
      "valid loss: 0.27916595339775085 | valid acc: 88.29617834394904\n",
      "-----\n"
     ]
    }
   ],
   "source": [
    "from tqdm.auto import tqdm\n",
    "\n",
    "#set seed\n",
    "torch.manual_seed(42)\n",
    "\n",
    "#set epochs small\n",
    "epochs = 17\n",
    "\n",
    "#create training and test loop\n",
    "for epoch in tqdm(range(epochs)):\n",
    "  print(f'epoch: {epoch}')\n",
    "  train_step(model_03, train_iter, loss_fn, optimizer, accuracy_fn, train_loss_per_epoch_03)\n",
    "  valid_step(model_03, validation_iter, loss_fn, accuracy_fn, valid_loss_per_epoch_03, valid_acc_per_epoch_03)\n"
   ]
  },
  {
   "cell_type": "code",
   "execution_count": 66,
   "id": "424a7f71",
   "metadata": {},
   "outputs": [],
   "source": [
    "epoch_list_03 = [x for x in range(epochs)]"
   ]
  },
  {
   "cell_type": "code",
   "execution_count": 67,
   "id": "724223e3",
   "metadata": {},
   "outputs": [
    {
     "data": {
      "text/plain": [
       "([tensor(0.6896, device='cuda:0', grad_fn=<DivBackward0>),\n",
       "  tensor(0.6577, device='cuda:0', grad_fn=<DivBackward0>),\n",
       "  tensor(0.5656, device='cuda:0', grad_fn=<DivBackward0>),\n",
       "  tensor(0.4905, device='cuda:0', grad_fn=<DivBackward0>),\n",
       "  tensor(0.4124, device='cuda:0', grad_fn=<DivBackward0>),\n",
       "  tensor(0.3627, device='cuda:0', grad_fn=<DivBackward0>),\n",
       "  tensor(0.3323, device='cuda:0', grad_fn=<DivBackward0>),\n",
       "  tensor(0.3173, device='cuda:0', grad_fn=<DivBackward0>),\n",
       "  tensor(0.3060, device='cuda:0', grad_fn=<DivBackward0>),\n",
       "  tensor(0.2928, device='cuda:0', grad_fn=<DivBackward0>),\n",
       "  tensor(0.2835, device='cuda:0', grad_fn=<DivBackward0>),\n",
       "  tensor(0.2748, device='cuda:0', grad_fn=<DivBackward0>),\n",
       "  tensor(0.2752, device='cuda:0', grad_fn=<DivBackward0>),\n",
       "  tensor(0.2596, device='cuda:0', grad_fn=<DivBackward0>),\n",
       "  tensor(0.2532, device='cuda:0', grad_fn=<DivBackward0>),\n",
       "  tensor(0.2454, device='cuda:0', grad_fn=<DivBackward0>),\n",
       "  tensor(0.2389, device='cuda:0', grad_fn=<DivBackward0>)],\n",
       " [tensor(0.6829, device='cuda:0'),\n",
       "  tensor(0.5878, device='cuda:0'),\n",
       "  tensor(0.5547, device='cuda:0'),\n",
       "  tensor(0.4604, device='cuda:0'),\n",
       "  tensor(0.3524, device='cuda:0'),\n",
       "  tensor(0.3742, device='cuda:0'),\n",
       "  tensor(0.3455, device='cuda:0'),\n",
       "  tensor(0.3497, device='cuda:0'),\n",
       "  tensor(0.3127, device='cuda:0'),\n",
       "  tensor(0.3018, device='cuda:0'),\n",
       "  tensor(0.3078, device='cuda:0'),\n",
       "  tensor(0.2858, device='cuda:0'),\n",
       "  tensor(0.3040, device='cuda:0'),\n",
       "  tensor(0.2793, device='cuda:0'),\n",
       "  tensor(0.2852, device='cuda:0'),\n",
       "  tensor(0.2765, device='cuda:0'),\n",
       "  tensor(0.2792, device='cuda:0')],\n",
       " [58.47929936305732,\n",
       "  72.7109872611465,\n",
       "  70.16321656050955,\n",
       "  77.98566878980891,\n",
       "  84.97213375796179,\n",
       "  82.76273885350318,\n",
       "  84.47452229299363,\n",
       "  84.45461783439491,\n",
       "  86.8232484076433,\n",
       "  87.24124203821655,\n",
       "  86.9625796178344,\n",
       "  88.1767515923567,\n",
       "  87.00238853503184,\n",
       "  88.69426751592357,\n",
       "  88.4156050955414,\n",
       "  88.69426751592357,\n",
       "  88.29617834394904])"
      ]
     },
     "execution_count": 67,
     "metadata": {},
     "output_type": "execute_result"
    }
   ],
   "source": [
    "train_loss_per_epoch_03,valid_loss_per_epoch_03,valid_acc_per_epoch_03"
   ]
  },
  {
   "cell_type": "code",
   "execution_count": 68,
   "id": "567d0f74",
   "metadata": {},
   "outputs": [
    {
     "data": {
      "application/vnd.jupyter.widget-view+json": {
       "model_id": "10d0e60443c2418ba8da38fb43612c6a",
       "version_major": 2,
       "version_minor": 0
      },
      "text/plain": [
       "Making predictions...:   0%|          | 0/782 [00:00<?, ?it/s]"
      ]
     },
     "metadata": {},
     "output_type": "display_data"
    },
    {
     "name": "stdout",
     "output_type": "stream",
     "text": [
      "Correct predictions: 22374/25000 (89.50%)\n"
     ]
    }
   ],
   "source": [
    "y_pred_tensor_03, y_true_tensor_03, y_prob_tensor_03 = inference_mode(model_03,test_iter)"
   ]
  },
  {
   "cell_type": "code",
   "execution_count": 69,
   "id": "8a5f4d45",
   "metadata": {},
   "outputs": [
    {
     "data": {
      "text/plain": [
       "(17, 17, 17, 17)"
      ]
     },
     "execution_count": 69,
     "metadata": {},
     "output_type": "execute_result"
    }
   ],
   "source": [
    "len(epoch_list_03), len(train_loss_per_epoch_03), len(valid_loss_per_epoch_03), len(valid_acc_per_epoch_03)"
   ]
  },
  {
   "cell_type": "code",
   "execution_count": 70,
   "id": "5a179a29",
   "metadata": {},
   "outputs": [
    {
     "data": {
      "text/plain": [
       "(torch.Size([25000]), torch.Size([25000]), torch.Size([25000]))"
      ]
     },
     "execution_count": 70,
     "metadata": {},
     "output_type": "execute_result"
    }
   ],
   "source": [
    "y_true_tensor_03.shape, y_pred_tensor_03.shape, y_prob_tensor_03.shape"
   ]
  },
  {
   "cell_type": "code",
   "execution_count": 183,
   "id": "4e28b416",
   "metadata": {},
   "outputs": [
    {
     "data": {
      "image/png": "[encoded data removed]",
      "text/plain": [
       "<Figure size 1200x500 with 2 Axes>"
      ]
     },
     "metadata": {},
     "output_type": "display_data"
    },
    {
     "data": {
      "image/png": "[encoded data removed]",
      "text/plain": [
       "<Figure size 600x500 with 1 Axes>"
      ]
     },
     "metadata": {},
     "output_type": "display_data"
    },
    {
     "data": {
      "image/png": "[encoded data removed]",
      "text/plain": [
       "<Figure size 1200x500 with 2 Axes>"
      ]
     },
     "metadata": {},
     "output_type": "display_data"
    }
   ],
   "source": [
    "plot_epoch_metrics(epoch_list_03, train_loss_per_epoch_03, valid_loss_per_epoch_03, valid_acc_per_epoch_03)\n",
    "plot_inference_metrics(y_true_tensor_03, y_pred_tensor_03, y_prob_tensor_03, class_names=train_label_field.vocab.itos)\n"
   ]
  },
  {
   "cell_type": "markdown",
   "id": "e0c726c8",
   "metadata": {},
   "source": [
    "# Model_1 (Adding in Attention Heads)"
   ]
  },
  {
   "cell_type": "code",
   "execution_count": 96,
   "id": "8ac23b3f",
   "metadata": {},
   "outputs": [
    {
     "data": {
      "text/plain": [
       "1537"
      ]
     },
     "execution_count": 96,
     "metadata": {},
     "output_type": "execute_result"
    }
   ],
   "source": [
    "import gc\n",
    "\n",
    "# Clear cache\n",
    "torch.cuda.empty_cache()\n",
    "\n",
    "# Collect garbage\n",
    "gc.collect()\n"
   ]
  },
  {
   "cell_type": "code",
   "execution_count": 73,
   "id": "af5a5ca2",
   "metadata": {},
   "outputs": [],
   "source": [
    "class Model_1(nn.Module):\n",
    "    def __init__(self, emb_matrix, hidden_size):\n",
    "        super().__init__()\n",
    "        #embed the index corresponding to the number\n",
    "        self.embedding = nn.Embedding.from_pretrained(embeddings=emb_matrix, freeze=True, padding_idx=1) #added padding_idx = 1 to not affect gradient\n",
    "\n",
    "        #feed batches into LSTM\n",
    "        self.forward_and_backward_LSTM = nn.LSTM(input_size=300, #embedding dimension\n",
    "                                    hidden_size=hidden_size, #hyperparameter \n",
    "                                    num_layers=2,\n",
    "                                    bidirectional=True,\n",
    "                                    batch_first=False,\n",
    "                                    dropout=.5\n",
    "                                    )\n",
    "        \n",
    "        self.attention_head = nn.MultiheadAttention(embed_dim=hidden_size*2, \n",
    "                                                    num_heads=1, \n",
    "                                                    batch_first=False)\n",
    "\n",
    "        self.classifier = nn.Sequential(\n",
    "                                        # nn.Linear(in_features=hidden_size*2*3, out_features=hidden_size*2*3),\n",
    "                                        nn.Linear(in_features=hidden_size*2*4, out_features=hidden_size*2*4),\n",
    "                                        nn.ReLU(),\n",
    "                                        nn.Dropout(),\n",
    "                                        # nn.Linear(in_features=hidden_size*2*3, out_features=1)\n",
    "                                        nn.Linear(in_features=hidden_size*2*4, out_features=1)\n",
    "                                        )\n",
    "        \n",
    "        \n",
    "\n",
    "    def forward(self, input_indices, input_lengths):\n",
    "        word_embedding = self.embedding(input_indices)\n",
    "        #use pack_padded_sequence in order to make computation efficient\n",
    "        packed_embedding = nn.utils.rnn.pack_padded_sequence(enforce_sorted=False, input=word_embedding, lengths=input_lengths.cpu())\n",
    "\n",
    "        #pass through LSTM\n",
    "        packed_output, (hn, cn) = self.forward_and_backward_LSTM(packed_embedding) #(seq_len, batch, hidden_size*2)\n",
    "        \n",
    "        \n",
    "        #Max and mean pooling\n",
    "        unpacked_output, lengths = nn.utils.rnn.pad_packed_sequence(packed_output)\n",
    "\n",
    "        attention_output, attention_weights = self.attention_head(unpacked_output, unpacked_output, unpacked_output)\n",
    "\n",
    "\n",
    "        h_final = torch.cat((hn[0], hn[1]), dim=1) # (batch_size, hidden_size*2)\n",
    "        mean_pool = torch.mean(unpacked_output, dim=0)\n",
    "        max_pool, _ = torch.max(unpacked_output, dim=0)\n",
    "        attention_pool = torch.mean(attention_output, dim=0)\n",
    "\n",
    "        #combine\n",
    "        features_pre_classification = torch.cat([h_final, mean_pool, max_pool, attention_pool], dim=1) #(batch_size, hidden_size*2*3)\n",
    "\n",
    "        res = self.classifier(features_pre_classification).squeeze(dim=1)\n",
    "\n",
    "        return res"
   ]
  },
  {
   "cell_type": "markdown",
   "id": "36d69b6e",
   "metadata": {},
   "source": [
    "## Without Early Stopping"
   ]
  },
  {
   "cell_type": "code",
   "execution_count": 97,
   "id": "150b2c33",
   "metadata": {},
   "outputs": [
    {
     "data": {
      "text/plain": [
       "Model_1(\n",
       "  (embedding): Embedding(90636, 300, padding_idx=1)\n",
       "  (forward_and_backward_LSTM): LSTM(300, 256, num_layers=2, dropout=0.5, bidirectional=True)\n",
       "  (attention_head): MultiheadAttention(\n",
       "    (out_proj): NonDynamicallyQuantizableLinear(in_features=512, out_features=512, bias=True)\n",
       "  )\n",
       "  (classifier): Sequential(\n",
       "    (0): Linear(in_features=2048, out_features=2048, bias=True)\n",
       "    (1): ReLU()\n",
       "    (2): Dropout(p=0.5, inplace=False)\n",
       "    (3): Linear(in_features=2048, out_features=1, bias=True)\n",
       "  )\n",
       ")"
      ]
     },
     "execution_count": 97,
     "metadata": {},
     "output_type": "execute_result"
    }
   ],
   "source": [
    "model_1 = Model_1(embedding_matrix, hidden_size=256).to(device)\n",
    "model_1"
   ]
  },
  {
   "cell_type": "code",
   "execution_count": 75,
   "id": "6c03864c",
   "metadata": {},
   "outputs": [],
   "source": [
    "loss_fn_1 = nn.BCEWithLogitsLoss()\n",
    "# optimizer_1 = torch.optim.AdamW(params=model_1.parameters(),\n",
    "#                             lr=1e-4,\n",
    "#                             weight_decay=1e-5)\n",
    "\n",
    "optimizer_1 = torch.optim.Adam(params=model_1.parameters(),\n",
    "                            lr=1e-3)\n",
    "train_loss_per_epoch_1 = []\n",
    "valid_loss_per_epoch_1 = []\n",
    "valid_acc_per_epoch_1 = []"
   ]
  },
  {
   "cell_type": "code",
   "execution_count": 76,
   "id": "cb21ace4",
   "metadata": {},
   "outputs": [
    {
     "data": {
      "application/vnd.jupyter.widget-view+json": {
       "model_id": "6ebd4ddd379c464aac5340889bec5519",
       "version_major": 2,
       "version_minor": 0
      },
      "text/plain": [
       "  0%|          | 0/5 [00:00<?, ?it/s]"
      ]
     },
     "metadata": {},
     "output_type": "display_data"
    },
    {
     "name": "stdout",
     "output_type": "stream",
     "text": [
      "epoch: 0\n",
      "Train loss: 0.38298502564430237 | train acc: 83.07\n",
      "valid loss: 0.2903406620025635 | valid acc: 88.0374203821656\n",
      "-----\n",
      "epoch: 1\n",
      "Train loss: 0.2664443552494049 | train acc: 89.305\n",
      "valid loss: 0.377469927072525 | valid acc: 84.375\n",
      "-----\n",
      "epoch: 2\n",
      "Train loss: 0.2272426187992096 | train acc: 91.215\n",
      "valid loss: 0.24118734896183014 | valid acc: 90.18710191082802\n",
      "-----\n",
      "epoch: 3\n",
      "Train loss: 0.1863405704498291 | train acc: 92.935\n",
      "valid loss: 0.2706046998500824 | valid acc: 88.99283439490446\n",
      "-----\n",
      "epoch: 4\n",
      "Train loss: 0.1513965129852295 | train acc: 94.36\n",
      "valid loss: 0.2655612826347351 | valid acc: 90.04777070063695\n",
      "-----\n"
     ]
    }
   ],
   "source": [
    "#set seed\n",
    "torch.manual_seed(42)\n",
    "\n",
    "#set epochs small\n",
    "epochs_1 = 5\n",
    "\n",
    "#create training and test loop\n",
    "for epoch in tqdm(range(epochs_1)):\n",
    "  print(f'epoch: {epoch}')\n",
    "  train_step(model_1, train_iter, loss_fn_1, optimizer_1, accuracy_fn, train_loss_per_epoch_1)\n",
    "  valid_step(model_1, validation_iter, loss_fn_1, accuracy_fn, valid_loss_per_epoch_1, valid_acc_per_epoch_1)"
   ]
  },
  {
   "cell_type": "code",
   "execution_count": 77,
   "id": "092cf2ed",
   "metadata": {},
   "outputs": [
    {
     "data": {
      "application/vnd.jupyter.widget-view+json": {
       "model_id": "725f5b6c3c6a4118b86b97bc54a5aedb",
       "version_major": 2,
       "version_minor": 0
      },
      "text/plain": [
       "Making predictions...:   0%|          | 0/782 [00:00<?, ?it/s]"
      ]
     },
     "metadata": {},
     "output_type": "display_data"
    },
    {
     "name": "stdout",
     "output_type": "stream",
     "text": [
      "Correct predictions: 22375/25000 (89.50%)\n"
     ]
    }
   ],
   "source": [
    "y_pred_tensor_1, y_true_tensor_1, y_prob_tensor_1 = inference_mode(model_1,test_iter)"
   ]
  },
  {
   "cell_type": "code",
   "execution_count": 137,
   "id": "9c9d4de7",
   "metadata": {},
   "outputs": [
    {
     "data": {
      "image/png": "[encoded data removed]",
      "text/plain": [
       "<Figure size 1200x500 with 2 Axes>"
      ]
     },
     "metadata": {},
     "output_type": "display_data"
    },
    {
     "data": {
      "image/png": "[encoded data removed]",
      "text/plain": [
       "<Figure size 600x500 with 1 Axes>"
      ]
     },
     "metadata": {},
     "output_type": "display_data"
    },
    {
     "data": {
      "image/png": "[encoded data removed]",
      "text/plain": [
       "<Figure size 1200x500 with 2 Axes>"
      ]
     },
     "metadata": {},
     "output_type": "display_data"
    }
   ],
   "source": [
    "epoch_list_1 = [x for x in range(epochs_1)]\n",
    "plot_epoch_metrics(epoch_list_1, train_loss_per_epoch_1, valid_loss_per_epoch_1, valid_acc_per_epoch_1)\n",
    "plot_inference_metrics(y_true_tensor_1, y_pred_tensor_1, y_prob_tensor_1, class_names=train_label_field.vocab.itos)"
   ]
  },
  {
   "cell_type": "markdown",
   "id": "ac2f5659",
   "metadata": {},
   "source": [
    "## Adjusting Loop (early stopping)"
   ]
  },
  {
   "cell_type": "markdown",
   "id": "6b81834d",
   "metadata": {},
   "source": [
    "### hidden_size = 512"
   ]
  },
  {
   "cell_type": "code",
   "execution_count": 98,
   "id": "7c3584b9",
   "metadata": {},
   "outputs": [],
   "source": [
    "model_11 = Model_1(embedding_matrix, hidden_size=512).to(device)"
   ]
  },
  {
   "cell_type": "code",
   "execution_count": 99,
   "id": "e05d0e4d",
   "metadata": {},
   "outputs": [],
   "source": [
    "loss_fn_11 = nn.BCEWithLogitsLoss()\n",
    "optimizer_11 = torch.optim.AdamW(params=model_11.parameters(),\n",
    "                            lr=1e-4,\n",
    "                            weight_decay=1e-5)\n",
    "\n",
    "\n",
    "train_loss_per_epoch_11 = []\n",
    "valid_loss_per_epoch_11 = []\n",
    "valid_acc_per_epoch_11 = []"
   ]
  },
  {
   "cell_type": "code",
   "execution_count": 100,
   "id": "4be7f9b5",
   "metadata": {},
   "outputs": [
    {
     "data": {
      "application/vnd.jupyter.widget-view+json": {
       "model_id": "cece913776f64a7c8a8bf9f84a8dbc5e",
       "version_major": 2,
       "version_minor": 0
      },
      "text/plain": [
       "  0%|          | 0/20 [00:00<?, ?it/s]"
      ]
     },
     "metadata": {},
     "output_type": "display_data"
    },
    {
     "name": "stdout",
     "output_type": "stream",
     "text": [
      "Epoch 1/20\n",
      "Train loss: 0.4006347358226776 | train acc: 81.095\n",
      "valid loss: 0.3983609676361084 | valid acc: 82.74283439490446\n",
      "-----\n",
      "✅ New best model saved (in memory)!\n",
      "Epoch 2/20\n",
      "Train loss: 0.2925907075405121 | train acc: 87.79\n",
      "valid loss: 0.2882991135120392 | valid acc: 88.0374203821656\n",
      "-----\n",
      "✅ New best model saved (in memory)!\n",
      "Epoch 3/20\n",
      "Train loss: 0.2698341906070709 | train acc: 89.05\n",
      "valid loss: 0.2957463264465332 | valid acc: 88.3359872611465\n",
      "-----\n",
      "⚠️ No improvement. Patience: 1/2\n",
      "Epoch 4/20\n",
      "Train loss: 0.24508312344551086 | train acc: 90.12\n",
      "valid loss: 0.2653990089893341 | valid acc: 89.23168789808918\n",
      "-----\n",
      "✅ New best model saved (in memory)!\n",
      "Epoch 5/20\n",
      "Train loss: 0.2275577038526535 | train acc: 90.81\n",
      "valid loss: 0.27542248368263245 | valid acc: 88.69426751592357\n",
      "-----\n",
      "⚠️ No improvement. Patience: 1/2\n",
      "Epoch 6/20\n",
      "Train loss: 0.20794445276260376 | train acc: 91.87\n",
      "valid loss: 0.27423563599586487 | valid acc: 88.73407643312102\n",
      "-----\n",
      "⚠️ No improvement. Patience: 2/2\n",
      "⏹️ Early stopping triggered.\n"
     ]
    }
   ],
   "source": [
    "torch.manual_seed(42)\n",
    "\n",
    "epochs = 20\n",
    "best_val_loss = float(\"inf\")\n",
    "patience = 2\n",
    "patience_counter = 0\n",
    "\n",
    "scheduler = torch.optim.lr_scheduler.ReduceLROnPlateau(optimizer_11, mode=\"min\", factor=0.5, patience=1)\n",
    "\n",
    "\n",
    "for epoch in tqdm(range(epochs)):\n",
    "    print(f\"Epoch {epoch+1}/{epochs}\")\n",
    "\n",
    "    train_step(model_11, train_iter, loss_fn_11, optimizer_11, accuracy_fn, train_loss_per_epoch_11)\n",
    "    val_loss = valid_step(model_11, validation_iter, loss_fn_11, accuracy_fn, valid_loss_per_epoch_11, valid_acc_per_epoch_11)\n",
    "\n",
    "    # 🔹 Scheduler step\n",
    "    scheduler.step(val_loss)\n",
    "\n",
    "    # 🔹 Early stopping\n",
    "    if val_loss < best_val_loss:\n",
    "        best_val_loss = val_loss\n",
    "        patience_counter = 0\n",
    "        best_model_state = {k: v.clone() for k, v in model_11.state_dict().items()}\n",
    "        print(\"✅ New best model saved (in memory)!\")\n",
    "    else:\n",
    "        patience_counter += 1\n",
    "        print(f\"⚠️ No improvement. Patience: {patience_counter}/{patience}\")\n",
    "        if patience_counter >= patience:\n",
    "            print(\"⏹️ Early stopping triggered.\")\n",
    "            break\n"
   ]
  },
  {
   "cell_type": "code",
   "execution_count": 101,
   "id": "841cdd38",
   "metadata": {},
   "outputs": [
    {
     "data": {
      "text/plain": [
       "<All keys matched successfully>"
      ]
     },
     "execution_count": 101,
     "metadata": {},
     "output_type": "execute_result"
    }
   ],
   "source": [
    "model_11.load_state_dict(best_model_state)"
   ]
  },
  {
   "cell_type": "code",
   "execution_count": 107,
   "id": "7dbf10d7",
   "metadata": {},
   "outputs": [
    {
     "name": "stdout",
     "output_type": "stream",
     "text": [
      "Model parameters saved to BILSTM(512hs)_With_An_Attention_Head.pth\n"
     ]
    }
   ],
   "source": [
    "saved_path = \"BILSTM(512hs)_With_An_Attention_Head.pth\"\n",
    "torch.save(model_11.state_dict(), saved_path)\n",
    "print(f\"Model parameters saved to {saved_path}\")"
   ]
  },
  {
   "cell_type": "code",
   "execution_count": 176,
   "id": "5ac76d6a",
   "metadata": {},
   "outputs": [
    {
     "data": {
      "application/vnd.jupyter.widget-view+json": {
       "model_id": "654934193a4a42f18f4da84a0e4fddaf",
       "version_major": 2,
       "version_minor": 0
      },
      "text/plain": [
       "Making predictions...:   0%|          | 0/782 [00:00<?, ?it/s]"
      ]
     },
     "metadata": {},
     "output_type": "display_data"
    },
    {
     "name": "stdout",
     "output_type": "stream",
     "text": [
      "Correct predictions: 22530/25000 (90.12%)\n"
     ]
    }
   ],
   "source": [
    "y_true_tensor_11, y_pred_tensor_11, y_prob_tensor_11 = inference_mode(model_11,test_iter)"
   ]
  },
  {
   "cell_type": "code",
   "execution_count": 177,
   "id": "1f8f0d0b",
   "metadata": {},
   "outputs": [
    {
     "data": {
      "text/plain": [
       "(6, 6, 6)"
      ]
     },
     "execution_count": 177,
     "metadata": {},
     "output_type": "execute_result"
    }
   ],
   "source": [
    "len(train_loss_per_epoch_11), len(valid_loss_per_epoch_11), len(valid_acc_per_epoch_11)"
   ]
  },
  {
   "cell_type": "code",
   "execution_count": 187,
   "id": "355b7391",
   "metadata": {},
   "outputs": [
    {
     "name": "stdout",
     "output_type": "stream",
     "text": [
      "6\n"
     ]
    },
    {
     "data": {
      "image/png": "[encoded data removed]",
      "text/plain": [
       "<Figure size 1200x500 with 2 Axes>"
      ]
     },
     "metadata": {},
     "output_type": "display_data"
    }
   ],
   "source": [
    "epoch_list_11 = [x for x in range(len(train_loss_per_epoch_11))]\n",
    "print(len(epoch_list_11))\n",
    "plot_epoch_metrics(epoch_list_11, train_loss_per_epoch_11, valid_loss_per_epoch_11, valid_acc_per_epoch_11)"
   ]
  },
  {
   "cell_type": "code",
   "execution_count": 188,
   "id": "c1e3c927",
   "metadata": {},
   "outputs": [
    {
     "data": {
      "image/png": "[encoded data removed]",
      "text/plain": [
       "<Figure size 600x500 with 1 Axes>"
      ]
     },
     "metadata": {},
     "output_type": "display_data"
    },
    {
     "data": {
      "image/png": "[encoded data removed]",
      "text/plain": [
       "<Figure size 1200x500 with 2 Axes>"
      ]
     },
     "metadata": {},
     "output_type": "display_data"
    }
   ],
   "source": [
    "plot_inference_metrics(y_true_tensor_11, y_pred_tensor_11, y_prob_tensor_11, class_names=train_label_field.vocab.itos)"
   ]
  },
  {
   "cell_type": "markdown",
   "id": "435968bd",
   "metadata": {},
   "source": [
    "### hidden_size = 256"
   ]
  },
  {
   "cell_type": "code",
   "execution_count": 120,
   "id": "8a473440",
   "metadata": {},
   "outputs": [
    {
     "data": {
      "text/plain": [
       "30910"
      ]
     },
     "execution_count": 120,
     "metadata": {},
     "output_type": "execute_result"
    }
   ],
   "source": [
    "import gc\n",
    "\n",
    "# Clear cache\n",
    "torch.cuda.empty_cache()\n",
    "\n",
    "# Collect garbage\n",
    "gc.collect()"
   ]
  },
  {
   "cell_type": "code",
   "execution_count": null,
   "id": "5abd3a52",
   "metadata": {},
   "outputs": [],
   "source": [
    "model_12 = Model_1(embedding_matrix, hidden_size=256).to(device)"
   ]
  },
  {
   "cell_type": "code",
   "execution_count": 122,
   "id": "235ff23c",
   "metadata": {},
   "outputs": [],
   "source": [
    "loss_fn_12 = nn.BCEWithLogitsLoss()\n",
    "optimizer_12 = torch.optim.AdamW(params=model_12.parameters(),\n",
    "                            lr=1e-4,\n",
    "                            weight_decay=1e-5)\n",
    "\n",
    "\n",
    "train_loss_per_epoch_12 = []\n",
    "valid_loss_per_epoch_12 = []\n",
    "valid_acc_per_epoch_12 = []"
   ]
  },
  {
   "cell_type": "code",
   "execution_count": 123,
   "id": "0f74172f",
   "metadata": {},
   "outputs": [
    {
     "data": {
      "application/vnd.jupyter.widget-view+json": {
       "model_id": "e433e50d7a4245479c1aa58fa240ab44",
       "version_major": 2,
       "version_minor": 0
      },
      "text/plain": [
       "  0%|          | 0/20 [00:00<?, ?it/s]"
      ]
     },
     "metadata": {},
     "output_type": "display_data"
    },
    {
     "name": "stdout",
     "output_type": "stream",
     "text": [
      "Epoch 1/20\n",
      "Train loss: 0.42678046226501465 | train acc: 79.05\n",
      "valid loss: 0.3470589518547058 | valid acc: 84.65366242038216\n",
      "-----\n",
      "✅ New best model saved (in memory)!\n",
      "Epoch 2/20\n",
      "Train loss: 0.3072320520877838 | train acc: 87.225\n",
      "valid loss: 0.30674436688423157 | valid acc: 87.28105095541402\n",
      "-----\n",
      "✅ New best model saved (in memory)!\n",
      "Epoch 3/20\n",
      "Train loss: 0.2735115587711334 | train acc: 88.88\n",
      "valid loss: 0.3054220974445343 | valid acc: 87.18152866242038\n",
      "-----\n",
      "✅ New best model saved (in memory)!\n",
      "Epoch 4/20\n",
      "Train loss: 0.26044467091560364 | train acc: 89.43\n",
      "valid loss: 0.27393683791160583 | valid acc: 88.43550955414013\n",
      "-----\n",
      "✅ New best model saved (in memory)!\n",
      "Epoch 5/20\n",
      "Train loss: 0.24162785708904266 | train acc: 90.275\n",
      "valid loss: 0.2833389937877655 | valid acc: 88.45541401273886\n",
      "-----\n",
      "⚠️ No improvement. Patience: 1/2\n",
      "Epoch 6/20\n",
      "Train loss: 0.22362177073955536 | train acc: 91.135\n",
      "valid loss: 0.26992660760879517 | valid acc: 89.29140127388536\n",
      "-----\n",
      "✅ New best model saved (in memory)!\n",
      "Epoch 7/20\n",
      "Train loss: 0.2097480595111847 | train acc: 92.01\n",
      "valid loss: 0.26318615674972534 | valid acc: 89.39092356687898\n",
      "-----\n",
      "✅ New best model saved (in memory)!\n",
      "Epoch 8/20\n",
      "Train loss: 0.1975916028022766 | train acc: 92.405\n",
      "valid loss: 0.26947450637817383 | valid acc: 89.57006369426752\n",
      "-----\n",
      "⚠️ No improvement. Patience: 1/2\n",
      "Epoch 9/20\n",
      "Train loss: 0.17894211411476135 | train acc: 93.175\n",
      "valid loss: 0.26237520575523376 | valid acc: 89.3312101910828\n",
      "-----\n",
      "✅ New best model saved (in memory)!\n",
      "Epoch 10/20\n",
      "Train loss: 0.16166864335536957 | train acc: 93.8\n",
      "valid loss: 0.32274293899536133 | valid acc: 88.15684713375796\n",
      "-----\n",
      "⚠️ No improvement. Patience: 1/2\n",
      "Epoch 11/20\n",
      "Train loss: 0.14447619020938873 | train acc: 94.71\n",
      "valid loss: 0.2788229286670685 | valid acc: 89.37101910828025\n",
      "-----\n",
      "⚠️ No improvement. Patience: 2/2\n",
      "⏹️ Early stopping triggered.\n"
     ]
    }
   ],
   "source": [
    "torch.manual_seed(42)\n",
    "\n",
    "epochs = 20\n",
    "best_val_loss = float(\"inf\")\n",
    "patience = 2\n",
    "patience_counter = 0\n",
    "\n",
    "scheduler = torch.optim.lr_scheduler.ReduceLROnPlateau(optimizer_12, mode=\"min\", factor=0.5, patience=1)\n",
    "\n",
    "\n",
    "for epoch in tqdm(range(epochs)):\n",
    "    print(f\"Epoch {epoch+1}/{epochs}\")\n",
    "\n",
    "    train_step(model_12, train_iter, loss_fn_12, optimizer_12, accuracy_fn, train_loss_per_epoch_12)\n",
    "    val_loss = valid_step(model_12, validation_iter, loss_fn_12, accuracy_fn, valid_loss_per_epoch_12, valid_acc_per_epoch_12)\n",
    "\n",
    "    # 🔹 Scheduler step\n",
    "    scheduler.step(val_loss)\n",
    "\n",
    "    # 🔹 Early stopping\n",
    "    if val_loss < best_val_loss:\n",
    "        best_val_loss = val_loss\n",
    "        patience_counter = 0\n",
    "        best_model_state_12 = {k: v.clone() for k, v in model_12.state_dict().items()}\n",
    "        print(\"✅ New best model saved (in memory)!\")\n",
    "    else:\n",
    "        patience_counter += 1\n",
    "        print(f\"⚠️ No improvement. Patience: {patience_counter}/{patience}\")\n",
    "        if patience_counter >= patience:\n",
    "            print(\"⏹️ Early stopping triggered.\")\n",
    "            break\n"
   ]
  },
  {
   "cell_type": "code",
   "execution_count": 129,
   "id": "211d6422",
   "metadata": {},
   "outputs": [
    {
     "data": {
      "text/plain": [
       "<All keys matched successfully>"
      ]
     },
     "execution_count": 129,
     "metadata": {},
     "output_type": "execute_result"
    }
   ],
   "source": [
    "model_12.load_state_dict(best_model_state_12)"
   ]
  },
  {
   "cell_type": "code",
   "execution_count": 130,
   "id": "bde9aafc",
   "metadata": {},
   "outputs": [
    {
     "name": "stdout",
     "output_type": "stream",
     "text": [
      "Model parameters saved to BILSTM(256hs)_With_An_Attention_Head.pth\n"
     ]
    }
   ],
   "source": [
    "saved_path_12 = \"BILSTM(256hs)_With_An_Attention_Head.pth\"\n",
    "torch.save(model_12.state_dict(), saved_path_12)\n",
    "print(f\"Model parameters saved to {saved_path_12}\")"
   ]
  },
  {
   "cell_type": "code",
   "execution_count": 172,
   "id": "3b6f5ff0",
   "metadata": {},
   "outputs": [
    {
     "data": {
      "application/vnd.jupyter.widget-view+json": {
       "model_id": "6a40b26107e54ef3bde01ac2a36e047a",
       "version_major": 2,
       "version_minor": 0
      },
      "text/plain": [
       "Making predictions...:   0%|          | 0/782 [00:00<?, ?it/s]"
      ]
     },
     "metadata": {},
     "output_type": "display_data"
    },
    {
     "name": "stdout",
     "output_type": "stream",
     "text": [
      "Correct predictions: 22526/25000 (90.10%)\n"
     ]
    }
   ],
   "source": [
    "y_true_tensor_12, y_pred_tensor_12, y_prob_tensor_12 = inference_mode(model_12,test_iter)"
   ]
  },
  {
   "cell_type": "code",
   "execution_count": 173,
   "id": "14f8388b",
   "metadata": {},
   "outputs": [
    {
     "data": {
      "text/plain": [
       "((torch.int64, torch.float32, torch.float32),\n",
       " (torch.int64, torch.float32, torch.float32))"
      ]
     },
     "execution_count": 173,
     "metadata": {},
     "output_type": "execute_result"
    }
   ],
   "source": [
    "(y_true_tensor_12.dtype, y_pred_tensor_12.dtype, y_prob_tensor_12.dtype),(y_true_tensor_1.dtype, y_pred_tensor_1.dtype, y_prob_tensor_1.dtype)"
   ]
  },
  {
   "cell_type": "code",
   "execution_count": 174,
   "id": "111c5a78",
   "metadata": {},
   "outputs": [
    {
     "data": {
      "text/plain": [
       "(11, 11, 11)"
      ]
     },
     "execution_count": 174,
     "metadata": {},
     "output_type": "execute_result"
    }
   ],
   "source": [
    "len(train_loss_per_epoch_12), len(valid_loss_per_epoch_12), len(valid_acc_per_epoch_12)"
   ]
  },
  {
   "cell_type": "code",
   "execution_count": 185,
   "id": "26e190ec",
   "metadata": {},
   "outputs": [
    {
     "name": "stdout",
     "output_type": "stream",
     "text": [
      "11\n"
     ]
    },
    {
     "data": {
      "image/png": "[encoded data removed]",
      "text/plain": [
       "<Figure size 1200x500 with 2 Axes>"
      ]
     },
     "metadata": {},
     "output_type": "display_data"
    }
   ],
   "source": [
    "epoch_list_12 = [x for x in range(len(train_loss_per_epoch_12))]\n",
    "print(len(epoch_list_12))\n",
    "plot_epoch_metrics(epoch_list_12, train_loss_per_epoch_12, valid_loss_per_epoch_12, valid_acc_per_epoch_12)"
   ]
  },
  {
   "cell_type": "code",
   "execution_count": 186,
   "id": "1b353895",
   "metadata": {},
   "outputs": [
    {
     "data": {
      "image/png": "[encoded data removed]",
      "text/plain": [
       "<Figure size 600x500 with 1 Axes>"
      ]
     },
     "metadata": {},
     "output_type": "display_data"
    },
    {
     "data": {
      "image/png": "[encoded data removed]",
      "text/plain": [
       "<Figure size 1200x500 with 2 Axes>"
      ]
     },
     "metadata": {},
     "output_type": "display_data"
    }
   ],
   "source": [
    "plot_inference_metrics(y_true_tensor_12, y_pred_tensor_12, y_prob_tensor_12, class_names=train_label_field.vocab.itos)"
   ]
  }
 ],
 "metadata": {
  "kernelspec": {
   "display_name": "Python (model_0-env)",
   "language": "python",
   "name": "model_0_env"
  },
  "language_info": {
   "codemirror_mode": {
    "name": "ipython",
    "version": 3
   },
   "file_extension": ".py",
   "mimetype": "text/x-python",
   "name": "python",
   "nbconvert_exporter": "python",
   "pygments_lexer": "ipython3",
   "version": "3.13.7"
  }
 },
 "nbformat": 4,
 "nbformat_minor": 5
}
